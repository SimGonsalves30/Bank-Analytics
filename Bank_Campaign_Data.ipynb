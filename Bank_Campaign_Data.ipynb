{
  "nbformat": 4,
  "nbformat_minor": 0,
  "metadata": {
    "colab": {
      "name": "209008 Bank Campaign Data.ipynb",
      "provenance": [],
      "collapsed_sections": [],
      "authorship_tag": "ABX9TyPkNPhJy5x6gR/delRJeGH1"
    },
    "kernelspec": {
      "name": "python3",
      "display_name": "Python 3"
    },
    "language_info": {
      "name": "python"
    }
  },
  "cells": [
    {
      "cell_type": "markdown",
      "metadata": {
        "id": "wPtypOcZsELJ"
      },
      "source": [
        "# **Name : Simran Gonsalves**"
      ]
    },
    {
      "cell_type": "markdown",
      "metadata": {
        "id": "wcnPdtcy3_Pm"
      },
      "source": [
        "# **Bank Campaign Data**"
      ]
    },
    {
      "cell_type": "markdown",
      "metadata": {
        "id": "p8MZNOEO5XOt"
      },
      "source": [
        "There are 41,188 observations in this dataset. Each represents an existing customer that the bank reached via phone calls.\n",
        "\n",
        "For each observation, the dataset records 16 input variables that stand for both qualitative and quantitative attributes of the customer, such as age, job, housing and personal loan status, account balance, and the number of contacts. \n",
        "\n",
        "There is a single binary output variable that denotes “yes” or “no” revealing the outcomes of the phone calls.\n"
      ]
    },
    {
      "cell_type": "markdown",
      "metadata": {
        "id": "pVAcDDfaCNbr"
      },
      "source": [
        "# **DATA LOADING**"
      ]
    },
    {
      "cell_type": "markdown",
      "metadata": {
        "id": "ni8Sy1xB9j6v"
      },
      "source": [
        "As the first step, all the required libraries and the dataset is imported."
      ]
    },
    {
      "cell_type": "code",
      "metadata": {
        "id": "RqaTh9-4l8bX"
      },
      "source": [
        "import numpy as np\n",
        "import pandas as pd\n",
        "import matplotlib.pyplot as plt\n",
        "import seaborn as sns"
      ],
      "execution_count": null,
      "outputs": []
    },
    {
      "cell_type": "code",
      "metadata": {
        "colab": {
          "base_uri": "https://localhost:8080/",
          "height": 206
        },
        "id": "LwI7JtUAl9Va",
        "outputId": "811c343f-7f53-400a-84c7-bcb9da769351"
      },
      "source": [
        "df=pd.read_csv(\"/content/Bank Campaign Data.csv\")\n",
        "df.head()"
      ],
      "execution_count": null,
      "outputs": [
        {
          "output_type": "execute_result",
          "data": {
            "text/html": [
              "<div>\n",
              "<style scoped>\n",
              "    .dataframe tbody tr th:only-of-type {\n",
              "        vertical-align: middle;\n",
              "    }\n",
              "\n",
              "    .dataframe tbody tr th {\n",
              "        vertical-align: top;\n",
              "    }\n",
              "\n",
              "    .dataframe thead th {\n",
              "        text-align: right;\n",
              "    }\n",
              "</style>\n",
              "<table border=\"1\" class=\"dataframe\">\n",
              "  <thead>\n",
              "    <tr style=\"text-align: right;\">\n",
              "      <th></th>\n",
              "      <th>age</th>\n",
              "      <th>job</th>\n",
              "      <th>marital</th>\n",
              "      <th>education</th>\n",
              "      <th>default</th>\n",
              "      <th>balance</th>\n",
              "      <th>housing</th>\n",
              "      <th>loan</th>\n",
              "      <th>contact</th>\n",
              "      <th>day</th>\n",
              "      <th>month</th>\n",
              "      <th>duration</th>\n",
              "      <th>campaign</th>\n",
              "      <th>pdays</th>\n",
              "      <th>previous</th>\n",
              "      <th>poutcome</th>\n",
              "      <th>y</th>\n",
              "    </tr>\n",
              "  </thead>\n",
              "  <tbody>\n",
              "    <tr>\n",
              "      <th>0</th>\n",
              "      <td>58</td>\n",
              "      <td>management</td>\n",
              "      <td>married</td>\n",
              "      <td>tertiary</td>\n",
              "      <td>no</td>\n",
              "      <td>2143</td>\n",
              "      <td>yes</td>\n",
              "      <td>no</td>\n",
              "      <td>unknown</td>\n",
              "      <td>5</td>\n",
              "      <td>may</td>\n",
              "      <td>261</td>\n",
              "      <td>1</td>\n",
              "      <td>-1</td>\n",
              "      <td>0</td>\n",
              "      <td>unknown</td>\n",
              "      <td>no</td>\n",
              "    </tr>\n",
              "    <tr>\n",
              "      <th>1</th>\n",
              "      <td>44</td>\n",
              "      <td>technician</td>\n",
              "      <td>single</td>\n",
              "      <td>secondary</td>\n",
              "      <td>no</td>\n",
              "      <td>29</td>\n",
              "      <td>yes</td>\n",
              "      <td>no</td>\n",
              "      <td>unknown</td>\n",
              "      <td>5</td>\n",
              "      <td>may</td>\n",
              "      <td>151</td>\n",
              "      <td>1</td>\n",
              "      <td>-1</td>\n",
              "      <td>0</td>\n",
              "      <td>unknown</td>\n",
              "      <td>no</td>\n",
              "    </tr>\n",
              "    <tr>\n",
              "      <th>2</th>\n",
              "      <td>33</td>\n",
              "      <td>entrepreneur</td>\n",
              "      <td>married</td>\n",
              "      <td>secondary</td>\n",
              "      <td>no</td>\n",
              "      <td>2</td>\n",
              "      <td>yes</td>\n",
              "      <td>yes</td>\n",
              "      <td>unknown</td>\n",
              "      <td>5</td>\n",
              "      <td>may</td>\n",
              "      <td>76</td>\n",
              "      <td>1</td>\n",
              "      <td>-1</td>\n",
              "      <td>0</td>\n",
              "      <td>unknown</td>\n",
              "      <td>no</td>\n",
              "    </tr>\n",
              "    <tr>\n",
              "      <th>3</th>\n",
              "      <td>47</td>\n",
              "      <td>blue-collar</td>\n",
              "      <td>married</td>\n",
              "      <td>unknown</td>\n",
              "      <td>no</td>\n",
              "      <td>1506</td>\n",
              "      <td>yes</td>\n",
              "      <td>no</td>\n",
              "      <td>unknown</td>\n",
              "      <td>5</td>\n",
              "      <td>may</td>\n",
              "      <td>92</td>\n",
              "      <td>1</td>\n",
              "      <td>-1</td>\n",
              "      <td>0</td>\n",
              "      <td>unknown</td>\n",
              "      <td>no</td>\n",
              "    </tr>\n",
              "    <tr>\n",
              "      <th>4</th>\n",
              "      <td>33</td>\n",
              "      <td>unknown</td>\n",
              "      <td>single</td>\n",
              "      <td>unknown</td>\n",
              "      <td>no</td>\n",
              "      <td>1</td>\n",
              "      <td>no</td>\n",
              "      <td>no</td>\n",
              "      <td>unknown</td>\n",
              "      <td>5</td>\n",
              "      <td>may</td>\n",
              "      <td>198</td>\n",
              "      <td>1</td>\n",
              "      <td>-1</td>\n",
              "      <td>0</td>\n",
              "      <td>unknown</td>\n",
              "      <td>no</td>\n",
              "    </tr>\n",
              "  </tbody>\n",
              "</table>\n",
              "</div>"
            ],
            "text/plain": [
              "   age           job  marital  education  ... pdays  previous poutcome   y\n",
              "0   58    management  married   tertiary  ...    -1         0  unknown  no\n",
              "1   44    technician   single  secondary  ...    -1         0  unknown  no\n",
              "2   33  entrepreneur  married  secondary  ...    -1         0  unknown  no\n",
              "3   47   blue-collar  married    unknown  ...    -1         0  unknown  no\n",
              "4   33       unknown   single    unknown  ...    -1         0  unknown  no\n",
              "\n",
              "[5 rows x 17 columns]"
            ]
          },
          "metadata": {},
          "execution_count": 83
        }
      ]
    },
    {
      "cell_type": "markdown",
      "metadata": {
        "id": "zkOukYgCC-KZ"
      },
      "source": [
        "# **DATA PRE-PROCESSING**"
      ]
    },
    {
      "cell_type": "code",
      "metadata": {
        "colab": {
          "base_uri": "https://localhost:8080/"
        },
        "id": "B_Bz9NEVl9ax",
        "outputId": "636bdec0-9cae-4ee0-e7c2-6fd692cf3cab"
      },
      "source": [
        "df.shape"
      ],
      "execution_count": null,
      "outputs": [
        {
          "output_type": "execute_result",
          "data": {
            "text/plain": [
              "(45211, 17)"
            ]
          },
          "metadata": {},
          "execution_count": 3
        }
      ]
    },
    {
      "cell_type": "code",
      "metadata": {
        "colab": {
          "base_uri": "https://localhost:8080/"
        },
        "id": "aPHx5E89l9eq",
        "outputId": "0895c594-316d-4db4-9a53-0b0ca5872971"
      },
      "source": [
        "df.info()"
      ],
      "execution_count": null,
      "outputs": [
        {
          "output_type": "stream",
          "text": [
            "<class 'pandas.core.frame.DataFrame'>\n",
            "RangeIndex: 45211 entries, 0 to 45210\n",
            "Data columns (total 17 columns):\n",
            " #   Column     Non-Null Count  Dtype \n",
            "---  ------     --------------  ----- \n",
            " 0   age        45211 non-null  int64 \n",
            " 1   job        45211 non-null  object\n",
            " 2   marital    45211 non-null  object\n",
            " 3   education  45211 non-null  object\n",
            " 4   default    45211 non-null  object\n",
            " 5   balance    45211 non-null  int64 \n",
            " 6   housing    45211 non-null  object\n",
            " 7   loan       45211 non-null  object\n",
            " 8   contact    45211 non-null  object\n",
            " 9   day        45211 non-null  int64 \n",
            " 10  month      45211 non-null  object\n",
            " 11  duration   45211 non-null  int64 \n",
            " 12  campaign   45211 non-null  int64 \n",
            " 13  pdays      45211 non-null  int64 \n",
            " 14  previous   45211 non-null  int64 \n",
            " 15  poutcome   45211 non-null  object\n",
            " 16  y          45211 non-null  object\n",
            "dtypes: int64(7), object(10)\n",
            "memory usage: 5.9+ MB\n"
          ],
          "name": "stdout"
        }
      ]
    },
    {
      "cell_type": "code",
      "metadata": {
        "colab": {
          "base_uri": "https://localhost:8080/",
          "height": 297
        },
        "id": "fP1gQsoDl9h7",
        "outputId": "89ee4bfd-5ff1-46fd-faf7-5cf170ada38e"
      },
      "source": [
        "df.describe()"
      ],
      "execution_count": null,
      "outputs": [
        {
          "output_type": "execute_result",
          "data": {
            "text/html": [
              "<div>\n",
              "<style scoped>\n",
              "    .dataframe tbody tr th:only-of-type {\n",
              "        vertical-align: middle;\n",
              "    }\n",
              "\n",
              "    .dataframe tbody tr th {\n",
              "        vertical-align: top;\n",
              "    }\n",
              "\n",
              "    .dataframe thead th {\n",
              "        text-align: right;\n",
              "    }\n",
              "</style>\n",
              "<table border=\"1\" class=\"dataframe\">\n",
              "  <thead>\n",
              "    <tr style=\"text-align: right;\">\n",
              "      <th></th>\n",
              "      <th>age</th>\n",
              "      <th>balance</th>\n",
              "      <th>day</th>\n",
              "      <th>duration</th>\n",
              "      <th>campaign</th>\n",
              "      <th>pdays</th>\n",
              "      <th>previous</th>\n",
              "    </tr>\n",
              "  </thead>\n",
              "  <tbody>\n",
              "    <tr>\n",
              "      <th>count</th>\n",
              "      <td>45211.000000</td>\n",
              "      <td>45211.000000</td>\n",
              "      <td>45211.000000</td>\n",
              "      <td>45211.000000</td>\n",
              "      <td>45211.000000</td>\n",
              "      <td>45211.000000</td>\n",
              "      <td>45211.000000</td>\n",
              "    </tr>\n",
              "    <tr>\n",
              "      <th>mean</th>\n",
              "      <td>40.936210</td>\n",
              "      <td>1362.272058</td>\n",
              "      <td>15.806419</td>\n",
              "      <td>258.163080</td>\n",
              "      <td>2.763841</td>\n",
              "      <td>40.197828</td>\n",
              "      <td>0.580323</td>\n",
              "    </tr>\n",
              "    <tr>\n",
              "      <th>std</th>\n",
              "      <td>10.618762</td>\n",
              "      <td>3044.765829</td>\n",
              "      <td>8.322476</td>\n",
              "      <td>257.527812</td>\n",
              "      <td>3.098021</td>\n",
              "      <td>100.128746</td>\n",
              "      <td>2.303441</td>\n",
              "    </tr>\n",
              "    <tr>\n",
              "      <th>min</th>\n",
              "      <td>18.000000</td>\n",
              "      <td>-8019.000000</td>\n",
              "      <td>1.000000</td>\n",
              "      <td>0.000000</td>\n",
              "      <td>1.000000</td>\n",
              "      <td>-1.000000</td>\n",
              "      <td>0.000000</td>\n",
              "    </tr>\n",
              "    <tr>\n",
              "      <th>25%</th>\n",
              "      <td>33.000000</td>\n",
              "      <td>72.000000</td>\n",
              "      <td>8.000000</td>\n",
              "      <td>103.000000</td>\n",
              "      <td>1.000000</td>\n",
              "      <td>-1.000000</td>\n",
              "      <td>0.000000</td>\n",
              "    </tr>\n",
              "    <tr>\n",
              "      <th>50%</th>\n",
              "      <td>39.000000</td>\n",
              "      <td>448.000000</td>\n",
              "      <td>16.000000</td>\n",
              "      <td>180.000000</td>\n",
              "      <td>2.000000</td>\n",
              "      <td>-1.000000</td>\n",
              "      <td>0.000000</td>\n",
              "    </tr>\n",
              "    <tr>\n",
              "      <th>75%</th>\n",
              "      <td>48.000000</td>\n",
              "      <td>1428.000000</td>\n",
              "      <td>21.000000</td>\n",
              "      <td>319.000000</td>\n",
              "      <td>3.000000</td>\n",
              "      <td>-1.000000</td>\n",
              "      <td>0.000000</td>\n",
              "    </tr>\n",
              "    <tr>\n",
              "      <th>max</th>\n",
              "      <td>95.000000</td>\n",
              "      <td>102127.000000</td>\n",
              "      <td>31.000000</td>\n",
              "      <td>4918.000000</td>\n",
              "      <td>63.000000</td>\n",
              "      <td>871.000000</td>\n",
              "      <td>275.000000</td>\n",
              "    </tr>\n",
              "  </tbody>\n",
              "</table>\n",
              "</div>"
            ],
            "text/plain": [
              "                age        balance  ...         pdays      previous\n",
              "count  45211.000000   45211.000000  ...  45211.000000  45211.000000\n",
              "mean      40.936210    1362.272058  ...     40.197828      0.580323\n",
              "std       10.618762    3044.765829  ...    100.128746      2.303441\n",
              "min       18.000000   -8019.000000  ...     -1.000000      0.000000\n",
              "25%       33.000000      72.000000  ...     -1.000000      0.000000\n",
              "50%       39.000000     448.000000  ...     -1.000000      0.000000\n",
              "75%       48.000000    1428.000000  ...     -1.000000      0.000000\n",
              "max       95.000000  102127.000000  ...    871.000000    275.000000\n",
              "\n",
              "[8 rows x 7 columns]"
            ]
          },
          "metadata": {
            "tags": []
          },
          "execution_count": 5
        }
      ]
    },
    {
      "cell_type": "markdown",
      "metadata": {
        "id": "qU3BS83EFT30"
      },
      "source": [
        "Here some useful statistical information is obtained, like,\n",
        "\n",
        "Mean (Average): adding up all the sample values for a given feature, then dividing it by the number of samples.\n",
        "\n",
        "Median: The middle number in the list of ascending order.\n",
        "\n",
        "Mode: The value that occurs the most in a list of samples.\n",
        "\n",
        "Range: The difference between the highest value and the lowest values in a list.\n",
        "\n",
        "Standard Deviation: used to measure the dispersion of values in a set.\n",
        "\n",
        "\n",
        "---\n",
        "\n"
      ]
    },
    {
      "cell_type": "markdown",
      "metadata": {
        "id": "cBysV_7PEKVO"
      },
      "source": [
        "### **Checking for any Null values**"
      ]
    },
    {
      "cell_type": "code",
      "metadata": {
        "colab": {
          "base_uri": "https://localhost:8080/"
        },
        "id": "ZfjBF034_9sS",
        "outputId": "11b02d7c-024a-4a46-d940-7be391141631"
      },
      "source": [
        "df.isnull().sum()"
      ],
      "execution_count": null,
      "outputs": [
        {
          "output_type": "execute_result",
          "data": {
            "text/plain": [
              "age          0\n",
              "job          0\n",
              "marital      0\n",
              "education    0\n",
              "default      0\n",
              "balance      0\n",
              "housing      0\n",
              "loan         0\n",
              "contact      0\n",
              "day          0\n",
              "month        0\n",
              "duration     0\n",
              "campaign     0\n",
              "pdays        0\n",
              "previous     0\n",
              "poutcome     0\n",
              "y            0\n",
              "dtype: int64"
            ]
          },
          "metadata": {
            "tags": []
          },
          "execution_count": 6
        }
      ]
    },
    {
      "cell_type": "markdown",
      "metadata": {
        "id": "dxsCRvyPEdS-"
      },
      "source": [
        "From the above output we can see that there are no missing values in this dataset.\n",
        "\n",
        "\n",
        "---\n",
        "\n"
      ]
    },
    {
      "cell_type": "markdown",
      "metadata": {
        "id": "uDzghHRWGjHb"
      },
      "source": [
        "# **DATA VISUALIZATION AND ANALYSIS OF FEATURES**\n",
        "\n",
        "\n",
        "---\n",
        "\n"
      ]
    },
    {
      "cell_type": "markdown",
      "metadata": {
        "id": "dw37eu7ftffz"
      },
      "source": [
        "**JOB**"
      ]
    },
    {
      "cell_type": "code",
      "metadata": {
        "colab": {
          "base_uri": "https://localhost:8080/"
        },
        "id": "_G1zT6DU_9yg",
        "outputId": "4d270bcc-369f-43a9-e32e-3a6cc8c528b9"
      },
      "source": [
        "df['job'].value_counts()"
      ],
      "execution_count": null,
      "outputs": [
        {
          "output_type": "execute_result",
          "data": {
            "text/plain": [
              "blue-collar      9732\n",
              "management       9458\n",
              "technician       7597\n",
              "admin.           5171\n",
              "services         4154\n",
              "retired          2264\n",
              "self-employed    1579\n",
              "entrepreneur     1487\n",
              "unemployed       1303\n",
              "housemaid        1240\n",
              "student           938\n",
              "unknown           288\n",
              "Name: job, dtype: int64"
            ]
          },
          "metadata": {
            "tags": []
          },
          "execution_count": 7
        }
      ]
    },
    {
      "cell_type": "code",
      "metadata": {
        "colab": {
          "base_uri": "https://localhost:8080/",
          "height": 343
        },
        "id": "BxMn0G2E_93r",
        "outputId": "83e37a1e-a437-404b-884e-f060b2348d8e"
      },
      "source": [
        "df['job'].value_counts().plot(kind='bar',color='red')"
      ],
      "execution_count": null,
      "outputs": [
        {
          "output_type": "execute_result",
          "data": {
            "text/plain": [
              "<matplotlib.axes._subplots.AxesSubplot at 0x7f26966f7490>"
            ]
          },
          "metadata": {
            "tags": []
          },
          "execution_count": 8
        },
        {
          "output_type": "display_data",
          "data": {
            "image/png": "[encoded data removed]",
            "text/plain": [
              "<Figure size 432x288 with 1 Axes>"
            ]
          },
          "metadata": {
            "tags": [],
            "needs_background": "light"
          }
        }
      ]
    },
    {
      "cell_type": "markdown",
      "metadata": {
        "id": "3L_xmJMDt5S8"
      },
      "source": [
        "**MARITAL**"
      ]
    },
    {
      "cell_type": "code",
      "metadata": {
        "colab": {
          "base_uri": "https://localhost:8080/"
        },
        "id": "aorUIXLO_9-A",
        "outputId": "44a16611-d6d4-4896-e6a3-5cbff9219077"
      },
      "source": [
        "df['marital'].value_counts()"
      ],
      "execution_count": null,
      "outputs": [
        {
          "output_type": "execute_result",
          "data": {
            "text/plain": [
              "married     27214\n",
              "single      12790\n",
              "divorced     5207\n",
              "Name: marital, dtype: int64"
            ]
          },
          "metadata": {
            "tags": []
          },
          "execution_count": 9
        }
      ]
    },
    {
      "cell_type": "code",
      "metadata": {
        "colab": {
          "base_uri": "https://localhost:8080/",
          "height": 315
        },
        "id": "RbKBUv5B_-Ej",
        "outputId": "a39157ec-db92-4153-a93e-8a9e73564018"
      },
      "source": [
        "df['marital'].value_counts().plot(kind='bar',color='blue')"
      ],
      "execution_count": null,
      "outputs": [
        {
          "output_type": "execute_result",
          "data": {
            "text/plain": [
              "<matplotlib.axes._subplots.AxesSubplot at 0x7f26965f9810>"
            ]
          },
          "metadata": {
            "tags": []
          },
          "execution_count": 10
        },
        {
          "output_type": "display_data",
          "data": {
            "image/png": "[encoded data removed]",
            "text/plain": [
              "<Figure size 432x288 with 1 Axes>"
            ]
          },
          "metadata": {
            "tags": [],
            "needs_background": "light"
          }
        }
      ]
    },
    {
      "cell_type": "markdown",
      "metadata": {
        "id": "3Z8K0yr1uC_2"
      },
      "source": [
        "**EDUCATION**"
      ]
    },
    {
      "cell_type": "code",
      "metadata": {
        "colab": {
          "base_uri": "https://localhost:8080/"
        },
        "id": "_DBaLUcbCfLU",
        "outputId": "59d62e77-f00c-4b45-a7c8-1ae283ab36e5"
      },
      "source": [
        "df['education'].value_counts()"
      ],
      "execution_count": null,
      "outputs": [
        {
          "output_type": "execute_result",
          "data": {
            "text/plain": [
              "secondary    23202\n",
              "tertiary     13301\n",
              "primary       6851\n",
              "unknown       1857\n",
              "Name: education, dtype: int64"
            ]
          },
          "metadata": {
            "tags": []
          },
          "execution_count": 11
        }
      ]
    },
    {
      "cell_type": "code",
      "metadata": {
        "colab": {
          "base_uri": "https://localhost:8080/",
          "height": 324
        },
        "id": "fQ5iwCzmCfgK",
        "outputId": "09bc3996-be1b-4a9f-a435-1762d9e38296"
      },
      "source": [
        "df['education'].value_counts().plot(kind='bar',color='green')"
      ],
      "execution_count": null,
      "outputs": [
        {
          "output_type": "execute_result",
          "data": {
            "text/plain": [
              "<matplotlib.axes._subplots.AxesSubplot at 0x7f26961274d0>"
            ]
          },
          "metadata": {
            "tags": []
          },
          "execution_count": 12
        },
        {
          "output_type": "display_data",
          "data": {
            "image/png": "[encoded data removed]",
            "text/plain": [
              "<Figure size 432x288 with 1 Axes>"
            ]
          },
          "metadata": {
            "tags": [],
            "needs_background": "light"
          }
        }
      ]
    },
    {
      "cell_type": "markdown",
      "metadata": {
        "id": "GMw7Y0U8uSX4"
      },
      "source": [
        "**DEFAULT**"
      ]
    },
    {
      "cell_type": "code",
      "metadata": {
        "colab": {
          "base_uri": "https://localhost:8080/"
        },
        "id": "3AEQZ4bICfj_",
        "outputId": "1cc3e59e-e524-4e5f-82f1-17d85c7ee078"
      },
      "source": [
        "df['default'].value_counts()"
      ],
      "execution_count": null,
      "outputs": [
        {
          "output_type": "execute_result",
          "data": {
            "text/plain": [
              "no     44396\n",
              "yes      815\n",
              "Name: default, dtype: int64"
            ]
          },
          "metadata": {
            "tags": []
          },
          "execution_count": 13
        }
      ]
    },
    {
      "cell_type": "code",
      "metadata": {
        "colab": {
          "base_uri": "https://localhost:8080/",
          "height": 290
        },
        "id": "WoS1IyIjCfw8",
        "outputId": "39b2b4df-39a5-4ad2-d1b4-72cf145599d8"
      },
      "source": [
        "df['default'].value_counts().plot(kind='bar',color='purple')"
      ],
      "execution_count": null,
      "outputs": [
        {
          "output_type": "execute_result",
          "data": {
            "text/plain": [
              "<matplotlib.axes._subplots.AxesSubplot at 0x7f269609bb90>"
            ]
          },
          "metadata": {
            "tags": []
          },
          "execution_count": 14
        },
        {
          "output_type": "display_data",
          "data": {
            "image/png": "[encoded data removed]",
            "text/plain": [
              "<Figure size 432x288 with 1 Axes>"
            ]
          },
          "metadata": {
            "tags": [],
            "needs_background": "light"
          }
        }
      ]
    },
    {
      "cell_type": "markdown",
      "metadata": {
        "id": "NNyaL_1PuUpP"
      },
      "source": [
        "**HOUSING**"
      ]
    },
    {
      "cell_type": "code",
      "metadata": {
        "colab": {
          "base_uri": "https://localhost:8080/"
        },
        "id": "M-kZoxYYCf1_",
        "outputId": "1c93ad0c-8a2d-4a3b-a122-2d7a284663ef"
      },
      "source": [
        "df['housing'].value_counts()"
      ],
      "execution_count": null,
      "outputs": [
        {
          "output_type": "execute_result",
          "data": {
            "text/plain": [
              "yes    25130\n",
              "no     20081\n",
              "Name: housing, dtype: int64"
            ]
          },
          "metadata": {
            "tags": []
          },
          "execution_count": 15
        }
      ]
    },
    {
      "cell_type": "code",
      "metadata": {
        "colab": {
          "base_uri": "https://localhost:8080/",
          "height": 290
        },
        "id": "5jjZtLfNCf7w",
        "outputId": "128d5ba9-1558-481d-af82-2ef8d792f5ad"
      },
      "source": [
        "df['housing'].value_counts().plot(kind='bar',color='yellow')"
      ],
      "execution_count": null,
      "outputs": [
        {
          "output_type": "execute_result",
          "data": {
            "text/plain": [
              "<matplotlib.axes._subplots.AxesSubplot at 0x7f269607b750>"
            ]
          },
          "metadata": {
            "tags": []
          },
          "execution_count": 16
        },
        {
          "output_type": "display_data",
          "data": {
            "image/png": "[encoded data removed]",
            "text/plain": [
              "<Figure size 432x288 with 1 Axes>"
            ]
          },
          "metadata": {
            "tags": [],
            "needs_background": "light"
          }
        }
      ]
    },
    {
      "cell_type": "markdown",
      "metadata": {
        "id": "kELSTK6iudgc"
      },
      "source": [
        "**LOAN**"
      ]
    },
    {
      "cell_type": "code",
      "metadata": {
        "colab": {
          "base_uri": "https://localhost:8080/"
        },
        "id": "l5DcAvEYDtQ4",
        "outputId": "f8c91077-1e69-4792-c5ae-e7895a9cf621"
      },
      "source": [
        "df['loan'].value_counts()"
      ],
      "execution_count": null,
      "outputs": [
        {
          "output_type": "execute_result",
          "data": {
            "text/plain": [
              "no     37967\n",
              "yes     7244\n",
              "Name: loan, dtype: int64"
            ]
          },
          "metadata": {
            "tags": []
          },
          "execution_count": 17
        }
      ]
    },
    {
      "cell_type": "code",
      "metadata": {
        "colab": {
          "base_uri": "https://localhost:8080/",
          "height": 290
        },
        "id": "I8hsCA8-DtdF",
        "outputId": "4bcfe694-9075-4763-c00f-704cb93d5887"
      },
      "source": [
        "df['loan'].value_counts().plot(kind='bar',color='pink')"
      ],
      "execution_count": null,
      "outputs": [
        {
          "output_type": "execute_result",
          "data": {
            "text/plain": [
              "<matplotlib.axes._subplots.AxesSubplot at 0x7f2696120850>"
            ]
          },
          "metadata": {
            "tags": []
          },
          "execution_count": 18
        },
        {
          "output_type": "display_data",
          "data": {
            "image/png": "[encoded data removed]",
            "text/plain": [
              "<Figure size 432x288 with 1 Axes>"
            ]
          },
          "metadata": {
            "tags": [],
            "needs_background": "light"
          }
        }
      ]
    },
    {
      "cell_type": "markdown",
      "metadata": {
        "id": "qOVyOXHAuhIU"
      },
      "source": [
        "**CONTACT**"
      ]
    },
    {
      "cell_type": "code",
      "metadata": {
        "colab": {
          "base_uri": "https://localhost:8080/"
        },
        "id": "UaPGkdOgDthY",
        "outputId": "8c556639-0bf3-4c31-d125-9b080f00ab2e"
      },
      "source": [
        "df['contact'].value_counts()"
      ],
      "execution_count": null,
      "outputs": [
        {
          "output_type": "execute_result",
          "data": {
            "text/plain": [
              "cellular     29285\n",
              "unknown      13020\n",
              "telephone     2906\n",
              "Name: contact, dtype: int64"
            ]
          },
          "metadata": {
            "tags": []
          },
          "execution_count": 19
        }
      ]
    },
    {
      "cell_type": "code",
      "metadata": {
        "colab": {
          "base_uri": "https://localhost:8080/",
          "height": 322
        },
        "id": "IfvVkNnWDtnh",
        "outputId": "57883633-55f0-4597-a916-1777394903ca"
      },
      "source": [
        "df['contact'].value_counts().plot(kind='bar',color='orange')"
      ],
      "execution_count": null,
      "outputs": [
        {
          "output_type": "execute_result",
          "data": {
            "text/plain": [
              "<matplotlib.axes._subplots.AxesSubplot at 0x7f2695f4e350>"
            ]
          },
          "metadata": {
            "tags": []
          },
          "execution_count": 20
        },
        {
          "output_type": "display_data",
          "data": {
            "image/png": "[encoded data removed]",
            "text/plain": [
              "<Figure size 432x288 with 1 Axes>"
            ]
          },
          "metadata": {
            "tags": [],
            "needs_background": "light"
          }
        }
      ]
    },
    {
      "cell_type": "markdown",
      "metadata": {
        "id": "ra_S-ZgLul0U"
      },
      "source": [
        "**MONTH**"
      ]
    },
    {
      "cell_type": "code",
      "metadata": {
        "colab": {
          "base_uri": "https://localhost:8080/"
        },
        "id": "xDjGX5y_DtsP",
        "outputId": "2072915f-2d0b-482b-cdd7-6c80e75f661d"
      },
      "source": [
        "df['month'].value_counts()"
      ],
      "execution_count": null,
      "outputs": [
        {
          "output_type": "execute_result",
          "data": {
            "text/plain": [
              "may    13766\n",
              "jul     6895\n",
              "aug     6247\n",
              "jun     5341\n",
              "nov     3970\n",
              "apr     2932\n",
              "feb     2649\n",
              "jan     1403\n",
              "oct      738\n",
              "sep      579\n",
              "mar      477\n",
              "dec      214\n",
              "Name: month, dtype: int64"
            ]
          },
          "metadata": {
            "tags": []
          },
          "execution_count": 21
        }
      ]
    },
    {
      "cell_type": "code",
      "metadata": {
        "colab": {
          "base_uri": "https://localhost:8080/",
          "height": 294
        },
        "id": "LTcORUO6Dtxx",
        "outputId": "3d49d024-c998-46f2-f910-b2c867785a34"
      },
      "source": [
        "df['month'].value_counts().plot(kind='bar',color='grey')"
      ],
      "execution_count": null,
      "outputs": [
        {
          "output_type": "execute_result",
          "data": {
            "text/plain": [
              "<matplotlib.axes._subplots.AxesSubplot at 0x7f2695f19750>"
            ]
          },
          "metadata": {
            "tags": []
          },
          "execution_count": 22
        },
        {
          "output_type": "display_data",
          "data": {
            "image/png": "[encoded data removed]",
            "text/plain": [
              "<Figure size 432x288 with 1 Axes>"
            ]
          },
          "metadata": {
            "tags": [],
            "needs_background": "light"
          }
        }
      ]
    },
    {
      "cell_type": "markdown",
      "metadata": {
        "id": "g6uPeV0gup0i"
      },
      "source": [
        "**POUTCOME**"
      ]
    },
    {
      "cell_type": "code",
      "metadata": {
        "colab": {
          "base_uri": "https://localhost:8080/"
        },
        "id": "xy-01QBAEhBj",
        "outputId": "da63023f-b208-42c4-c1fe-d90f153312ac"
      },
      "source": [
        "df['poutcome'].value_counts()"
      ],
      "execution_count": null,
      "outputs": [
        {
          "output_type": "execute_result",
          "data": {
            "text/plain": [
              "unknown    36959\n",
              "failure     4901\n",
              "other       1840\n",
              "success     1511\n",
              "Name: poutcome, dtype: int64"
            ]
          },
          "metadata": {
            "tags": []
          },
          "execution_count": 23
        }
      ]
    },
    {
      "cell_type": "code",
      "metadata": {
        "colab": {
          "base_uri": "https://localhost:8080/",
          "height": 318
        },
        "id": "znJIUsJbEhoR",
        "outputId": "67131aff-09b6-4c15-a5db-d30f03216e85"
      },
      "source": [
        "df['poutcome'].value_counts().plot(kind='bar',color='violet')"
      ],
      "execution_count": null,
      "outputs": [
        {
          "output_type": "execute_result",
          "data": {
            "text/plain": [
              "<matplotlib.axes._subplots.AxesSubplot at 0x7f2695e476d0>"
            ]
          },
          "metadata": {
            "tags": []
          },
          "execution_count": 24
        },
        {
          "output_type": "display_data",
          "data": {
            "image/png": "[encoded data removed]",
            "text/plain": [
              "<Figure size 432x288 with 1 Axes>"
            ]
          },
          "metadata": {
            "tags": [],
            "needs_background": "light"
          }
        }
      ]
    },
    {
      "cell_type": "markdown",
      "metadata": {
        "id": "ZqWaV52auvoN"
      },
      "source": [
        "**y**"
      ]
    },
    {
      "cell_type": "code",
      "metadata": {
        "colab": {
          "base_uri": "https://localhost:8080/"
        },
        "id": "OprzJ5-8Ehtd",
        "outputId": "0c26c85f-2f54-404c-baa8-bc731d0d65c2"
      },
      "source": [
        "df['y'].value_counts()"
      ],
      "execution_count": null,
      "outputs": [
        {
          "output_type": "execute_result",
          "data": {
            "text/plain": [
              "no     39922\n",
              "yes     5289\n",
              "Name: y, dtype: int64"
            ]
          },
          "metadata": {
            "tags": []
          },
          "execution_count": 25
        }
      ]
    },
    {
      "cell_type": "code",
      "metadata": {
        "colab": {
          "base_uri": "https://localhost:8080/",
          "height": 290
        },
        "id": "aVThNVagEhzR",
        "outputId": "2973884b-bd89-41e7-cb83-394d41d0b209"
      },
      "source": [
        "df['y'].value_counts().plot(kind='bar',color='black')"
      ],
      "execution_count": null,
      "outputs": [
        {
          "output_type": "execute_result",
          "data": {
            "text/plain": [
              "<matplotlib.axes._subplots.AxesSubplot at 0x7f2695ef1910>"
            ]
          },
          "metadata": {
            "tags": []
          },
          "execution_count": 26
        },
        {
          "output_type": "display_data",
          "data": {
            "image/png": "[encoded data removed]",
            "text/plain": [
              "<Figure size 432x288 with 1 Axes>"
            ]
          },
          "metadata": {
            "tags": [],
            "needs_background": "light"
          }
        }
      ]
    },
    {
      "cell_type": "markdown",
      "metadata": {
        "id": "ccyDYx7X6u8H"
      },
      "source": [
        "### **BOXPLOTS**"
      ]
    },
    {
      "cell_type": "markdown",
      "metadata": {
        "id": "KmJnp4_avDsU"
      },
      "source": [
        "**AGE**"
      ]
    },
    {
      "cell_type": "code",
      "metadata": {
        "colab": {
          "base_uri": "https://localhost:8080/",
          "height": 351
        },
        "id": "7plS4AzSPY9y",
        "outputId": "6badfee0-59a3-4304-963b-2de50c8ec104"
      },
      "source": [
        "sns.boxplot(df['age'])"
      ],
      "execution_count": null,
      "outputs": [
        {
          "output_type": "stream",
          "name": "stderr",
          "text": [
            "/usr/local/lib/python3.7/dist-packages/seaborn/_decorators.py:43: FutureWarning: Pass the following variable as a keyword arg: x. From version 0.12, the only valid positional argument will be `data`, and passing other arguments without an explicit keyword will result in an error or misinterpretation.\n",
            "  FutureWarning\n"
          ]
        },
        {
          "output_type": "execute_result",
          "data": {
            "text/plain": [
              "<matplotlib.axes._subplots.AxesSubplot at 0x7f04853af9d0>"
            ]
          },
          "metadata": {},
          "execution_count": 4
        },
        {
          "output_type": "display_data",
          "data": {
            "image/png": "[encoded data removed]",
            "text/plain": [
              "<Figure size 432x288 with 1 Axes>"
            ]
          },
          "metadata": {
            "needs_background": "light"
          }
        }
      ]
    },
    {
      "cell_type": "code",
      "metadata": {
        "colab": {
          "base_uri": "https://localhost:8080/"
        },
        "id": "S4Egy-syRDn3",
        "outputId": "96dd2b24-417f-44fb-84f7-a8a9c0d04e3a"
      },
      "source": [
        "# find number of outliers\n",
        "Q1=df['age'].quantile(0.25)  # or df.Age.quantile(0.25)\n",
        "Q3=df['age'].quantile(0.75)  # or df.Age.quantile(0.75)\n",
        "IQR=Q3-Q1\n",
        "lower=Q1-1.5*IQR\n",
        "upper=Q3+1.5*IQR\n",
        "df2=df[(df['age']<lower) | (df['age']>upper) ]\n",
        "print(\"Number of outliers detected in Age: \",df2.shape[0])"
      ],
      "execution_count": null,
      "outputs": [
        {
          "output_type": "stream",
          "name": "stdout",
          "text": [
            "Number of outliers detected in Age:  487\n"
          ]
        }
      ]
    },
    {
      "cell_type": "code",
      "metadata": {
        "colab": {
          "base_uri": "https://localhost:8080/"
        },
        "id": "h0w9MGO3RDsD",
        "outputId": "a840b43a-4414-41b5-8c2f-840acb1f5081"
      },
      "source": [
        "# quantile way of outliers\n",
        "max_val=df['age'].quantile(0.95)  # or df.Age.quantile(0.95)\n",
        "min_val=df['age'].quantile(0.05)  # or df.Age.quantile(0.05)\n",
        "df2=df[(df['age']<min_val) | (df['age']>max_val) ]\n",
        "print(\"Number of outliers detected in Age: \",df2.shape[0])"
      ],
      "execution_count": null,
      "outputs": [
        {
          "output_type": "stream",
          "name": "stdout",
          "text": [
            "Number of outliers detected in Age:  3925\n"
          ]
        }
      ]
    },
    {
      "cell_type": "code",
      "metadata": {
        "id": "5dSQiVTXRYem"
      },
      "source": [
        "for i,data in df.iterrows():\n",
        "    if data['age']<lower:\n",
        "        df.at[i,'age']=lower #as age is known so random number is not prefered\n",
        "    elif data['age']>upper:\n",
        "        df.at[i,'age']=upper #as age is known so random number is not prefered"
      ],
      "execution_count": null,
      "outputs": []
    },
    {
      "cell_type": "code",
      "metadata": {
        "colab": {
          "base_uri": "https://localhost:8080/",
          "height": 351
        },
        "id": "Y-KN9o2BPZDa",
        "outputId": "c7fc514b-caf0-4496-a37b-d1a09733fba6"
      },
      "source": [
        "sns.boxplot(df['age'])"
      ],
      "execution_count": null,
      "outputs": [
        {
          "output_type": "stream",
          "name": "stderr",
          "text": [
            "/usr/local/lib/python3.7/dist-packages/seaborn/_decorators.py:43: FutureWarning: Pass the following variable as a keyword arg: x. From version 0.12, the only valid positional argument will be `data`, and passing other arguments without an explicit keyword will result in an error or misinterpretation.\n",
            "  FutureWarning\n"
          ]
        },
        {
          "output_type": "execute_result",
          "data": {
            "text/plain": [
              "<matplotlib.axes._subplots.AxesSubplot at 0x7f048528e450>"
            ]
          },
          "metadata": {},
          "execution_count": 8
        },
        {
          "output_type": "display_data",
          "data": {
            "image/png": "[encoded data removed]",
            "text/plain": [
              "<Figure size 432x288 with 1 Axes>"
            ]
          },
          "metadata": {
            "needs_background": "light"
          }
        }
      ]
    },
    {
      "cell_type": "code",
      "metadata": {
        "colab": {
          "base_uri": "https://localhost:8080/",
          "height": 296
        },
        "id": "9epelsJBv1qX",
        "outputId": "5e3a74f1-885d-4f26-9ef4-693503b45671"
      },
      "source": [
        "sns.barplot(x = 'age', y = 'y', data = df,palette='Blues_d')"
      ],
      "execution_count": null,
      "outputs": [
        {
          "output_type": "execute_result",
          "data": {
            "text/plain": [
              "<matplotlib.axes._subplots.AxesSubplot at 0x7f048421cb90>"
            ]
          },
          "metadata": {},
          "execution_count": 9
        },
        {
          "output_type": "display_data",
          "data": {
            "image/png": "[encoded data removed]",
            "text/plain": [
              "<Figure size 432x288 with 1 Axes>"
            ]
          },
          "metadata": {
            "needs_background": "light"
          }
        }
      ]
    },
    {
      "cell_type": "markdown",
      "metadata": {
        "id": "kIppanTcvWXJ"
      },
      "source": [
        "**BALANCE**"
      ]
    },
    {
      "cell_type": "code",
      "metadata": {
        "colab": {
          "base_uri": "https://localhost:8080/",
          "height": 351
        },
        "id": "fH9mgbadP6Uw",
        "outputId": "a42b5bf4-b52c-427c-d7db-b8414dd27a25"
      },
      "source": [
        "sns.boxplot(df['balance'])"
      ],
      "execution_count": null,
      "outputs": [
        {
          "output_type": "stream",
          "name": "stderr",
          "text": [
            "/usr/local/lib/python3.7/dist-packages/seaborn/_decorators.py:43: FutureWarning: Pass the following variable as a keyword arg: x. From version 0.12, the only valid positional argument will be `data`, and passing other arguments without an explicit keyword will result in an error or misinterpretation.\n",
            "  FutureWarning\n"
          ]
        },
        {
          "output_type": "execute_result",
          "data": {
            "text/plain": [
              "<matplotlib.axes._subplots.AxesSubplot at 0x7f0484139650>"
            ]
          },
          "metadata": {},
          "execution_count": 10
        },
        {
          "output_type": "display_data",
          "data": {
            "image/png": "[encoded data removed]",
            "text/plain": [
              "<Figure size 432x288 with 1 Axes>"
            ]
          },
          "metadata": {
            "needs_background": "light"
          }
        }
      ]
    },
    {
      "cell_type": "code",
      "metadata": {
        "colab": {
          "base_uri": "https://localhost:8080/"
        },
        "id": "dGOQYQX2UJXh",
        "outputId": "515fbaa1-fadd-44ac-e1f6-fc83e8f0b74f"
      },
      "source": [
        "# find number of outliers\n",
        "Q1=df['balance'].quantile(0.25)  \n",
        "Q3=df['balance'].quantile(0.75)  \n",
        "IQR=Q3-Q1\n",
        "lower=Q1-1.5*IQR\n",
        "upper=Q3+1.5*IQR\n",
        "df2=df[(df['balance']<lower) | (df['balance']>upper) ]\n",
        "print(\"Number of outliers detected : \",df2.shape[0])"
      ],
      "execution_count": null,
      "outputs": [
        {
          "output_type": "stream",
          "name": "stdout",
          "text": [
            "Number of outliers detected :  4729\n"
          ]
        }
      ]
    },
    {
      "cell_type": "code",
      "metadata": {
        "colab": {
          "base_uri": "https://localhost:8080/"
        },
        "id": "Cv7aidQnUKwp",
        "outputId": "eea0f661-d045-48c4-9010-0d20b0ea791c"
      },
      "source": [
        "# quantile way of outliers\n",
        "max_val=df['balance'].quantile(0.95)  \n",
        "min_val=df['balance'].quantile(0.05)\n",
        "df2=df[(df['balance']<min_val) | (df['balance']>max_val) ]\n",
        "print(\"Number of outliers detected: \",df2.shape[0])"
      ],
      "execution_count": null,
      "outputs": [
        {
          "output_type": "stream",
          "name": "stdout",
          "text": [
            "Number of outliers detected:  4519\n"
          ]
        }
      ]
    },
    {
      "cell_type": "code",
      "metadata": {
        "id": "wuwh_ZE6UK1N"
      },
      "source": [
        "for i,data in df.iterrows():\n",
        "    if data['balance']<lower:\n",
        "        df.at[i,'balance']=lower\n",
        "    elif data['balance']>upper:\n",
        "        df.at[i,'balance']=upper "
      ],
      "execution_count": null,
      "outputs": []
    },
    {
      "cell_type": "code",
      "metadata": {
        "colab": {
          "base_uri": "https://localhost:8080/",
          "height": 351
        },
        "id": "kCBMDpvyUK5D",
        "outputId": "bc1a3260-5df4-4f0e-d782-17e7ee8028ff"
      },
      "source": [
        "sns.boxplot(df['balance'])"
      ],
      "execution_count": null,
      "outputs": [
        {
          "output_type": "stream",
          "name": "stderr",
          "text": [
            "/usr/local/lib/python3.7/dist-packages/seaborn/_decorators.py:43: FutureWarning: Pass the following variable as a keyword arg: x. From version 0.12, the only valid positional argument will be `data`, and passing other arguments without an explicit keyword will result in an error or misinterpretation.\n",
            "  FutureWarning\n"
          ]
        },
        {
          "output_type": "execute_result",
          "data": {
            "text/plain": [
              "<matplotlib.axes._subplots.AxesSubplot at 0x7f04840db790>"
            ]
          },
          "metadata": {},
          "execution_count": 14
        },
        {
          "output_type": "display_data",
          "data": {
            "image/png": "[encoded data removed]",
            "text/plain": [
              "<Figure size 432x288 with 1 Axes>"
            ]
          },
          "metadata": {
            "needs_background": "light"
          }
        }
      ]
    },
    {
      "cell_type": "markdown",
      "metadata": {
        "id": "pPNy_5nzv8i3"
      },
      "source": [
        "**DAY**"
      ]
    },
    {
      "cell_type": "code",
      "metadata": {
        "colab": {
          "base_uri": "https://localhost:8080/",
          "height": 351
        },
        "id": "-ZpPfkCSULAs",
        "outputId": "9d8f3f36-210c-4b74-ecb0-c93f29e5bfe0"
      },
      "source": [
        "sns.boxplot(df['day'])"
      ],
      "execution_count": null,
      "outputs": [
        {
          "output_type": "stream",
          "name": "stderr",
          "text": [
            "/usr/local/lib/python3.7/dist-packages/seaborn/_decorators.py:43: FutureWarning: Pass the following variable as a keyword arg: x. From version 0.12, the only valid positional argument will be `data`, and passing other arguments without an explicit keyword will result in an error or misinterpretation.\n",
            "  FutureWarning\n"
          ]
        },
        {
          "output_type": "execute_result",
          "data": {
            "text/plain": [
              "<matplotlib.axes._subplots.AxesSubplot at 0x7f04840dbb10>"
            ]
          },
          "metadata": {},
          "execution_count": 15
        },
        {
          "output_type": "display_data",
          "data": {
            "image/png": "[encoded data removed]",
            "text/plain": [
              "<Figure size 432x288 with 1 Axes>"
            ]
          },
          "metadata": {
            "needs_background": "light"
          }
        }
      ]
    },
    {
      "cell_type": "markdown",
      "metadata": {
        "id": "sloUAqtcwNJC"
      },
      "source": [
        "**DURATION**"
      ]
    },
    {
      "cell_type": "code",
      "metadata": {
        "colab": {
          "base_uri": "https://localhost:8080/",
          "height": 351
        },
        "id": "x2K0zdfjU7K4",
        "outputId": "8c2a07cc-0e23-455a-9372-3ffc138d0c40"
      },
      "source": [
        "sns.boxplot(df['duration'])"
      ],
      "execution_count": null,
      "outputs": [
        {
          "output_type": "stream",
          "name": "stderr",
          "text": [
            "/usr/local/lib/python3.7/dist-packages/seaborn/_decorators.py:43: FutureWarning: Pass the following variable as a keyword arg: x. From version 0.12, the only valid positional argument will be `data`, and passing other arguments without an explicit keyword will result in an error or misinterpretation.\n",
            "  FutureWarning\n"
          ]
        },
        {
          "output_type": "execute_result",
          "data": {
            "text/plain": [
              "<matplotlib.axes._subplots.AxesSubplot at 0x7f04841cb150>"
            ]
          },
          "metadata": {},
          "execution_count": 16
        },
        {
          "output_type": "display_data",
          "data": {
            "image/png": "[encoded data removed]",
            "text/plain": [
              "<Figure size 432x288 with 1 Axes>"
            ]
          },
          "metadata": {
            "needs_background": "light"
          }
        }
      ]
    },
    {
      "cell_type": "code",
      "metadata": {
        "colab": {
          "base_uri": "https://localhost:8080/"
        },
        "id": "r48iusk_VFBp",
        "outputId": "ee60abef-90ad-47ee-e71a-94398280b68e"
      },
      "source": [
        "# find number of outliers\n",
        "Q1=df['duration'].quantile(0.25)  \n",
        "Q3=df['duration'].quantile(0.75)  \n",
        "IQR=Q3-Q1\n",
        "lower=Q1-1.5*IQR\n",
        "upper=Q3+1.5*IQR\n",
        "df2=df[(df['duration']<lower) | (df['duration']>upper) ]\n",
        "print(\"Number of outliers detected: \",df2.shape[0])"
      ],
      "execution_count": null,
      "outputs": [
        {
          "output_type": "stream",
          "name": "stdout",
          "text": [
            "Number of outliers detected:  3235\n"
          ]
        }
      ]
    },
    {
      "cell_type": "code",
      "metadata": {
        "colab": {
          "base_uri": "https://localhost:8080/"
        },
        "id": "-WQJbjkBVFFY",
        "outputId": "f751b039-8b76-42bd-ac17-ecfc8e87f0b2"
      },
      "source": [
        "# quantile way of outliers\n",
        "max_val=df['duration'].quantile(0.95)  \n",
        "min_val=df['duration'].quantile(0.05)  \n",
        "df2=df[(df['duration']<min_val) | (df['duration']>max_val) ]\n",
        "print(\"Number of outliers detected: \",df2.shape[0])"
      ],
      "execution_count": null,
      "outputs": [
        {
          "output_type": "stream",
          "name": "stdout",
          "text": [
            "Number of outliers detected:  4509\n"
          ]
        }
      ]
    },
    {
      "cell_type": "code",
      "metadata": {
        "id": "1NHNhHVmVFLN"
      },
      "source": [
        "for i,data in df.iterrows():\n",
        "    if data['duration']<lower:\n",
        "        df.at[i,'duration']=lower \n",
        "    elif data['duration']>upper:\n",
        "        df.at[i,'duration']=upper "
      ],
      "execution_count": null,
      "outputs": []
    },
    {
      "cell_type": "code",
      "metadata": {
        "colab": {
          "base_uri": "https://localhost:8080/",
          "height": 351
        },
        "id": "Bf1Id7NxVFPm",
        "outputId": "52b1a461-dfe3-4f25-eef1-31da0ff78266"
      },
      "source": [
        "sns.boxplot(df['duration'])"
      ],
      "execution_count": null,
      "outputs": [
        {
          "output_type": "stream",
          "name": "stderr",
          "text": [
            "/usr/local/lib/python3.7/dist-packages/seaborn/_decorators.py:43: FutureWarning: Pass the following variable as a keyword arg: x. From version 0.12, the only valid positional argument will be `data`, and passing other arguments without an explicit keyword will result in an error or misinterpretation.\n",
            "  FutureWarning\n"
          ]
        },
        {
          "output_type": "execute_result",
          "data": {
            "text/plain": [
              "<matplotlib.axes._subplots.AxesSubplot at 0x7f04843a6690>"
            ]
          },
          "metadata": {},
          "execution_count": 20
        },
        {
          "output_type": "display_data",
          "data": {
            "image/png": "[encoded data removed]",
            "text/plain": [
              "<Figure size 432x288 with 1 Axes>"
            ]
          },
          "metadata": {
            "needs_background": "light"
          }
        }
      ]
    },
    {
      "cell_type": "markdown",
      "metadata": {
        "id": "ieub4xYqwRd4"
      },
      "source": [
        "**CAMPAIGN**"
      ]
    },
    {
      "cell_type": "code",
      "metadata": {
        "colab": {
          "base_uri": "https://localhost:8080/",
          "height": 351
        },
        "id": "H-fu1GLfVFUO",
        "outputId": "6750bb20-3a8f-493b-ecd8-15202181e07f"
      },
      "source": [
        "sns.boxplot(df['campaign'])"
      ],
      "execution_count": null,
      "outputs": [
        {
          "output_type": "stream",
          "name": "stderr",
          "text": [
            "/usr/local/lib/python3.7/dist-packages/seaborn/_decorators.py:43: FutureWarning: Pass the following variable as a keyword arg: x. From version 0.12, the only valid positional argument will be `data`, and passing other arguments without an explicit keyword will result in an error or misinterpretation.\n",
            "  FutureWarning\n"
          ]
        },
        {
          "output_type": "execute_result",
          "data": {
            "text/plain": [
              "<matplotlib.axes._subplots.AxesSubplot at 0x7f048408f6d0>"
            ]
          },
          "metadata": {},
          "execution_count": 21
        },
        {
          "output_type": "display_data",
          "data": {
            "image/png": "[encoded data removed]",
            "text/plain": [
              "<Figure size 432x288 with 1 Axes>"
            ]
          },
          "metadata": {
            "needs_background": "light"
          }
        }
      ]
    },
    {
      "cell_type": "code",
      "metadata": {
        "colab": {
          "base_uri": "https://localhost:8080/"
        },
        "id": "YZ0Eh5pOV7no",
        "outputId": "47b4c3fa-3efd-4163-8fcd-5f971622dcd5"
      },
      "source": [
        "# find number of outliers\n",
        "Q1=df['campaign'].quantile(0.25)  \n",
        "Q3=df['campaign'].quantile(0.75)  \n",
        "IQR=Q3-Q1\n",
        "lower=Q1-1.5*IQR\n",
        "upper=Q3+1.5*IQR\n",
        "df2=df[(df['campaign']<lower) | (df['campaign']>upper) ]\n",
        "print(\"Number of outliers detected : \",df2.shape[0])"
      ],
      "execution_count": null,
      "outputs": [
        {
          "output_type": "stream",
          "name": "stdout",
          "text": [
            "Number of outliers detected :  3064\n"
          ]
        }
      ]
    },
    {
      "cell_type": "code",
      "metadata": {
        "colab": {
          "base_uri": "https://localhost:8080/"
        },
        "id": "BIs7aogPV7sB",
        "outputId": "e7a16dca-7a76-4eb4-fa1e-54727c2be927"
      },
      "source": [
        "# quantile way of outliers\n",
        "max_val=df['campaign'].quantile(0.95)  \n",
        "min_val=df['campaign'].quantile(0.05)  \n",
        "df2=df[(df['campaign']<min_val) | (df['campaign']>max_val) ]\n",
        "print(\"Number of outliers detected : \",df2.shape[0])"
      ],
      "execution_count": null,
      "outputs": [
        {
          "output_type": "stream",
          "name": "stdout",
          "text": [
            "Number of outliers detected :  1789\n"
          ]
        }
      ]
    },
    {
      "cell_type": "code",
      "metadata": {
        "id": "tmy1d5DHV7yP"
      },
      "source": [
        "for i,data in df.iterrows():\n",
        "    if data['campaign']<lower:\n",
        "        df.at[i,'campaign']=lower \n",
        "    elif data['campaign']>upper:\n",
        "        df.at[i,'campaign']=upper "
      ],
      "execution_count": null,
      "outputs": []
    },
    {
      "cell_type": "code",
      "metadata": {
        "colab": {
          "base_uri": "https://localhost:8080/",
          "height": 351
        },
        "id": "4HNxsPHjV727",
        "outputId": "6e294ef7-3373-4299-865f-672bfe89c3eb"
      },
      "source": [
        "sns.boxplot(df['campaign'])"
      ],
      "execution_count": null,
      "outputs": [
        {
          "output_type": "stream",
          "name": "stderr",
          "text": [
            "/usr/local/lib/python3.7/dist-packages/seaborn/_decorators.py:43: FutureWarning: Pass the following variable as a keyword arg: x. From version 0.12, the only valid positional argument will be `data`, and passing other arguments without an explicit keyword will result in an error or misinterpretation.\n",
            "  FutureWarning\n"
          ]
        },
        {
          "output_type": "execute_result",
          "data": {
            "text/plain": [
              "<matplotlib.axes._subplots.AxesSubplot at 0x7f048400bad0>"
            ]
          },
          "metadata": {},
          "execution_count": 25
        },
        {
          "output_type": "display_data",
          "data": {
            "image/png": "[encoded data removed]",
            "text/plain": [
              "<Figure size 432x288 with 1 Axes>"
            ]
          },
          "metadata": {
            "needs_background": "light"
          }
        }
      ]
    },
    {
      "cell_type": "markdown",
      "metadata": {
        "id": "olXC7RodwWpA"
      },
      "source": [
        "**PDAYS**"
      ]
    },
    {
      "cell_type": "code",
      "metadata": {
        "colab": {
          "base_uri": "https://localhost:8080/",
          "height": 351
        },
        "id": "KN9IUtnfV77g",
        "outputId": "e9a4f05d-d75b-4747-8b0a-65ff79d0d416"
      },
      "source": [
        "sns.boxplot(df['pdays'])"
      ],
      "execution_count": null,
      "outputs": [
        {
          "output_type": "stream",
          "name": "stderr",
          "text": [
            "/usr/local/lib/python3.7/dist-packages/seaborn/_decorators.py:43: FutureWarning: Pass the following variable as a keyword arg: x. From version 0.12, the only valid positional argument will be `data`, and passing other arguments without an explicit keyword will result in an error or misinterpretation.\n",
            "  FutureWarning\n"
          ]
        },
        {
          "output_type": "execute_result",
          "data": {
            "text/plain": [
              "<matplotlib.axes._subplots.AxesSubplot at 0x7f0483defa10>"
            ]
          },
          "metadata": {},
          "execution_count": 26
        },
        {
          "output_type": "display_data",
          "data": {
            "image/png": "[encoded data removed]",
            "text/plain": [
              "<Figure size 432x288 with 1 Axes>"
            ]
          },
          "metadata": {
            "needs_background": "light"
          }
        }
      ]
    },
    {
      "cell_type": "code",
      "metadata": {
        "colab": {
          "base_uri": "https://localhost:8080/"
        },
        "id": "V40CT6kdW4O8",
        "outputId": "ba9b35c5-f761-41c1-bd76-0180ac53bcb3"
      },
      "source": [
        "# find number of outliers\n",
        "Q1=df['pdays'].quantile(0.25)  \n",
        "Q3=df['pdays'].quantile(0.75)  \n",
        "IQR=Q3-Q1\n",
        "lower=Q1-1.5*IQR\n",
        "upper=Q3+1.5*IQR\n",
        "df2=df[(df['pdays']<lower) | (df['pdays']>upper) ]\n",
        "print(\"Number of outliers detected: \",df2.shape[0])"
      ],
      "execution_count": null,
      "outputs": [
        {
          "output_type": "stream",
          "name": "stdout",
          "text": [
            "Number of outliers detected:  8257\n"
          ]
        }
      ]
    },
    {
      "cell_type": "code",
      "metadata": {
        "colab": {
          "base_uri": "https://localhost:8080/"
        },
        "id": "QPI5jbyEW4Tt",
        "outputId": "9e0e385f-f7b3-4254-ac76-d6b3a0c210f2"
      },
      "source": [
        "# quantile way of outliers\n",
        "max_val=df['pdays'].quantile(0.95)  \n",
        "min_val=df['pdays'].quantile(0.05)  \n",
        "df2=df[(df['pdays']<min_val) | (df['pdays']>max_val) ]\n",
        "print(\"Number of outliers detected: \",df2.shape[0])"
      ],
      "execution_count": null,
      "outputs": [
        {
          "output_type": "stream",
          "name": "stdout",
          "text": [
            "Number of outliers detected:  2255\n"
          ]
        }
      ]
    },
    {
      "cell_type": "code",
      "metadata": {
        "id": "iGHoWpWXW4Zc"
      },
      "source": [
        "for i,data in df.iterrows():\n",
        "    if data['pdays']<lower:\n",
        "        df.at[i,'pdays']=lower \n",
        "    elif data['pdays']>upper:\n",
        "        df.at[i,'pdays']=upper "
      ],
      "execution_count": null,
      "outputs": []
    },
    {
      "cell_type": "code",
      "metadata": {
        "colab": {
          "base_uri": "https://localhost:8080/",
          "height": 351
        },
        "id": "jye5cGsxW4eT",
        "outputId": "b6dd0c3b-1f00-4b77-d0bf-ec7d30f7c2bb"
      },
      "source": [
        "sns.boxplot(df['pdays'])"
      ],
      "execution_count": null,
      "outputs": [
        {
          "output_type": "stream",
          "name": "stderr",
          "text": [
            "/usr/local/lib/python3.7/dist-packages/seaborn/_decorators.py:43: FutureWarning: Pass the following variable as a keyword arg: x. From version 0.12, the only valid positional argument will be `data`, and passing other arguments without an explicit keyword will result in an error or misinterpretation.\n",
            "  FutureWarning\n"
          ]
        },
        {
          "output_type": "execute_result",
          "data": {
            "text/plain": [
              "<matplotlib.axes._subplots.AxesSubplot at 0x7f0483f16190>"
            ]
          },
          "metadata": {},
          "execution_count": 30
        },
        {
          "output_type": "display_data",
          "data": {
            "image/png": "[encoded data removed]",
            "text/plain": [
              "<Figure size 432x288 with 1 Axes>"
            ]
          },
          "metadata": {
            "needs_background": "light"
          }
        }
      ]
    },
    {
      "cell_type": "markdown",
      "metadata": {
        "id": "yzkkbUvrwaWW"
      },
      "source": [
        "**PREVIOUS**"
      ]
    },
    {
      "cell_type": "code",
      "metadata": {
        "colab": {
          "base_uri": "https://localhost:8080/",
          "height": 351
        },
        "id": "caDNvD1rW4iW",
        "outputId": "5c19e582-e25d-4c02-ff91-a7d2aa435c73"
      },
      "source": [
        "sns.boxplot(df['previous'])"
      ],
      "execution_count": null,
      "outputs": [
        {
          "output_type": "stream",
          "name": "stderr",
          "text": [
            "/usr/local/lib/python3.7/dist-packages/seaborn/_decorators.py:43: FutureWarning: Pass the following variable as a keyword arg: x. From version 0.12, the only valid positional argument will be `data`, and passing other arguments without an explicit keyword will result in an error or misinterpretation.\n",
            "  FutureWarning\n"
          ]
        },
        {
          "output_type": "execute_result",
          "data": {
            "text/plain": [
              "<matplotlib.axes._subplots.AxesSubplot at 0x7f0483c040d0>"
            ]
          },
          "metadata": {},
          "execution_count": 31
        },
        {
          "output_type": "display_data",
          "data": {
            "image/png": "[encoded data removed]",
            "text/plain": [
              "<Figure size 432x288 with 1 Axes>"
            ]
          },
          "metadata": {
            "needs_background": "light"
          }
        }
      ]
    },
    {
      "cell_type": "code",
      "metadata": {
        "colab": {
          "base_uri": "https://localhost:8080/"
        },
        "id": "YCpiPP4XW4mz",
        "outputId": "d82eb8e5-497c-4d72-9bad-4bef9bfe2ad4"
      },
      "source": [
        "# find number of outliers\n",
        "Q1=df['previous'].quantile(0.25)  \n",
        "Q3=df['previous'].quantile(0.75)  \n",
        "IQR=Q3-Q1\n",
        "lower=Q1-1.5*IQR\n",
        "upper=Q3+1.5*IQR\n",
        "df2=df[(df['previous']<lower) | (df['previous']>upper) ]\n",
        "print(\"Number of outliers detected : \",df2.shape[0])"
      ],
      "execution_count": null,
      "outputs": [
        {
          "output_type": "stream",
          "name": "stdout",
          "text": [
            "Number of outliers detected :  8257\n"
          ]
        }
      ]
    },
    {
      "cell_type": "code",
      "metadata": {
        "colab": {
          "base_uri": "https://localhost:8080/"
        },
        "id": "WO_Txof6W4rk",
        "outputId": "b371995e-2b11-4bc2-d4fa-c755046f2216"
      },
      "source": [
        "# quantile way of outliers\n",
        "max_val=df['previous'].quantile(0.95)  \n",
        "min_val=df['previous'].quantile(0.05)  \n",
        "df2=df[(df['previous']<min_val) | (df['previous']>max_val) ]\n",
        "print(\"Number of outliers detected: \",df2.shape[0])"
      ],
      "execution_count": null,
      "outputs": [
        {
          "output_type": "stream",
          "name": "stdout",
          "text": [
            "Number of outliers detected:  2237\n"
          ]
        }
      ]
    },
    {
      "cell_type": "code",
      "metadata": {
        "id": "uw1tB4nRXjPO"
      },
      "source": [
        "for i,data in df.iterrows():\n",
        "    if data['previous']<lower:\n",
        "        df.at[i,'previous']=lower \n",
        "    elif data['previous']>upper:\n",
        "        df.at[i,'previous']=upper "
      ],
      "execution_count": null,
      "outputs": []
    },
    {
      "cell_type": "code",
      "metadata": {
        "colab": {
          "base_uri": "https://localhost:8080/",
          "height": 351
        },
        "id": "tgoW9jk6XjbE",
        "outputId": "9f154ab3-62b1-4186-8caa-6b7a2808fa5f"
      },
      "source": [
        "sns.boxplot(df['previous'])"
      ],
      "execution_count": null,
      "outputs": [
        {
          "output_type": "stream",
          "name": "stderr",
          "text": [
            "/usr/local/lib/python3.7/dist-packages/seaborn/_decorators.py:43: FutureWarning: Pass the following variable as a keyword arg: x. From version 0.12, the only valid positional argument will be `data`, and passing other arguments without an explicit keyword will result in an error or misinterpretation.\n",
            "  FutureWarning\n"
          ]
        },
        {
          "output_type": "execute_result",
          "data": {
            "text/plain": [
              "<matplotlib.axes._subplots.AxesSubplot at 0x7f0483dcc850>"
            ]
          },
          "metadata": {},
          "execution_count": 35
        },
        {
          "output_type": "display_data",
          "data": {
            "image/png": "[encoded data removed]",
            "text/plain": [
              "<Figure size 432x288 with 1 Axes>"
            ]
          },
          "metadata": {
            "needs_background": "light"
          }
        }
      ]
    },
    {
      "cell_type": "markdown",
      "metadata": {
        "id": "wA_FC3_pwgRa"
      },
      "source": [
        "# **Encoding**"
      ]
    },
    {
      "cell_type": "code",
      "metadata": {
        "colab": {
          "base_uri": "https://localhost:8080/"
        },
        "id": "IylAFe6QEh4l",
        "outputId": "8a5357ce-3f0d-4adb-a6df-046fa05fc53b"
      },
      "source": [
        "df['CategoricalAge']=pd.qcut(df['age'],4) # 4 categories\n",
        "df['CategoricalAge']"
      ],
      "execution_count": null,
      "outputs": [
        {
          "output_type": "execute_result",
          "data": {
            "text/plain": [
              "0          (48.0, 70.0]\n",
              "1          (39.0, 48.0]\n",
              "2        (17.999, 33.0]\n",
              "3          (39.0, 48.0]\n",
              "4        (17.999, 33.0]\n",
              "              ...      \n",
              "45206      (48.0, 70.0]\n",
              "45207      (48.0, 70.0]\n",
              "45208      (48.0, 70.0]\n",
              "45209      (48.0, 70.0]\n",
              "45210      (33.0, 39.0]\n",
              "Name: CategoricalAge, Length: 45211, dtype: category\n",
              "Categories (4, interval[float64]): [(17.999, 33.0] < (33.0, 39.0] < (39.0, 48.0] < (48.0, 70.0]]"
            ]
          },
          "metadata": {},
          "execution_count": 36
        }
      ]
    },
    {
      "cell_type": "code",
      "metadata": {
        "colab": {
          "base_uri": "https://localhost:8080/"
        },
        "id": "arcLuQFKEh8n",
        "outputId": "e2b199c9-630a-49aa-b1af-214dd0f592ba"
      },
      "source": [
        "df['CategoricalBalance']=pd.qcut(df['balance'],4) # 4 categories\n",
        "df['CategoricalBalance']"
      ],
      "execution_count": null,
      "outputs": [
        {
          "output_type": "execute_result",
          "data": {
            "text/plain": [
              "0         (1428.0, 3462.0]\n",
              "1        (-1962.001, 72.0]\n",
              "2        (-1962.001, 72.0]\n",
              "3         (1428.0, 3462.0]\n",
              "4        (-1962.001, 72.0]\n",
              "               ...        \n",
              "45206      (448.0, 1428.0]\n",
              "45207     (1428.0, 3462.0]\n",
              "45208     (1428.0, 3462.0]\n",
              "45209      (448.0, 1428.0]\n",
              "45210     (1428.0, 3462.0]\n",
              "Name: CategoricalBalance, Length: 45211, dtype: category\n",
              "Categories (4, interval[float64]): [(-1962.001, 72.0] < (72.0, 448.0] < (448.0, 1428.0] <\n",
              "                                    (1428.0, 3462.0]]"
            ]
          },
          "metadata": {},
          "execution_count": 37
        }
      ]
    },
    {
      "cell_type": "code",
      "metadata": {
        "colab": {
          "base_uri": "https://localhost:8080/"
        },
        "id": "jXFD3FYYHoPk",
        "outputId": "9a95de04-c433-4337-a1c8-273d694b2ab6"
      },
      "source": [
        "df['CategoricalDay']=pd.qcut(df['day'],4) # 4 categories\n",
        "df['CategoricalDay']"
      ],
      "execution_count": null,
      "outputs": [
        {
          "output_type": "execute_result",
          "data": {
            "text/plain": [
              "0        (0.999, 8.0]\n",
              "1        (0.999, 8.0]\n",
              "2        (0.999, 8.0]\n",
              "3        (0.999, 8.0]\n",
              "4        (0.999, 8.0]\n",
              "             ...     \n",
              "45206    (16.0, 21.0]\n",
              "45207    (16.0, 21.0]\n",
              "45208    (16.0, 21.0]\n",
              "45209    (16.0, 21.0]\n",
              "45210    (16.0, 21.0]\n",
              "Name: CategoricalDay, Length: 45211, dtype: category\n",
              "Categories (4, interval[float64]): [(0.999, 8.0] < (8.0, 16.0] < (16.0, 21.0] < (21.0, 31.0]]"
            ]
          },
          "metadata": {},
          "execution_count": 38
        }
      ]
    },
    {
      "cell_type": "code",
      "metadata": {
        "colab": {
          "base_uri": "https://localhost:8080/"
        },
        "id": "NGIRNrbRHoYl",
        "outputId": "487961fa-159c-4353-e441-087f6a1b7625"
      },
      "source": [
        "df['CategoricalDuration']=pd.qcut(df['duration'],4) # 4 categories\n",
        "df['CategoricalDuration']"
      ],
      "execution_count": null,
      "outputs": [
        {
          "output_type": "execute_result",
          "data": {
            "text/plain": [
              "0         (180.0, 319.0]\n",
              "1         (103.0, 180.0]\n",
              "2        (-0.001, 103.0]\n",
              "3        (-0.001, 103.0]\n",
              "4         (180.0, 319.0]\n",
              "              ...       \n",
              "45206     (319.0, 643.0]\n",
              "45207     (319.0, 643.0]\n",
              "45208     (319.0, 643.0]\n",
              "45209     (319.0, 643.0]\n",
              "45210     (319.0, 643.0]\n",
              "Name: CategoricalDuration, Length: 45211, dtype: category\n",
              "Categories (4, interval[float64]): [(-0.001, 103.0] < (103.0, 180.0] < (180.0, 319.0] < (319.0, 643.0]]"
            ]
          },
          "metadata": {},
          "execution_count": 39
        }
      ]
    },
    {
      "cell_type": "code",
      "metadata": {
        "colab": {
          "base_uri": "https://localhost:8080/"
        },
        "id": "eAnCDz-UHoe1",
        "outputId": "8c37b27d-2686-4b75-c170-fcbd51ec75e1"
      },
      "source": [
        "df['CategoricalCampaign']=pd.qcut(df['campaign'],2) # 2 categories\n",
        "df['CategoricalCampaign']"
      ],
      "execution_count": null,
      "outputs": [
        {
          "output_type": "execute_result",
          "data": {
            "text/plain": [
              "0        (0.999, 2.0]\n",
              "1        (0.999, 2.0]\n",
              "2        (0.999, 2.0]\n",
              "3        (0.999, 2.0]\n",
              "4        (0.999, 2.0]\n",
              "             ...     \n",
              "45206      (2.0, 6.0]\n",
              "45207    (0.999, 2.0]\n",
              "45208      (2.0, 6.0]\n",
              "45209      (2.0, 6.0]\n",
              "45210    (0.999, 2.0]\n",
              "Name: CategoricalCampaign, Length: 45211, dtype: category\n",
              "Categories (2, interval[float64]): [(0.999, 2.0] < (2.0, 6.0]]"
            ]
          },
          "metadata": {},
          "execution_count": 40
        }
      ]
    },
    {
      "cell_type": "code",
      "metadata": {
        "colab": {
          "base_uri": "https://localhost:8080/"
        },
        "id": "WP439EANHonE",
        "outputId": "656298f1-c138-4477-83e7-862b6e99398c"
      },
      "source": [
        "df['Categoricalpdays']=pd.qcut(df['pdays'],1) \n",
        "df['Categoricalpdays']"
      ],
      "execution_count": null,
      "outputs": [
        {
          "output_type": "execute_result",
          "data": {
            "text/plain": [
              "0        (-1.001, -1.0]\n",
              "1        (-1.001, -1.0]\n",
              "2        (-1.001, -1.0]\n",
              "3        (-1.001, -1.0]\n",
              "4        (-1.001, -1.0]\n",
              "              ...      \n",
              "45206    (-1.001, -1.0]\n",
              "45207    (-1.001, -1.0]\n",
              "45208    (-1.001, -1.0]\n",
              "45209    (-1.001, -1.0]\n",
              "45210    (-1.001, -1.0]\n",
              "Name: Categoricalpdays, Length: 45211, dtype: category\n",
              "Categories (1, interval[float64]): [(-1.001, -1.0]]"
            ]
          },
          "metadata": {},
          "execution_count": 41
        }
      ]
    },
    {
      "cell_type": "code",
      "metadata": {
        "colab": {
          "base_uri": "https://localhost:8080/"
        },
        "id": "iN-B08cGl9sk",
        "outputId": "e970ab66-0702-4210-bb53-d837d2ea85b0"
      },
      "source": [
        "df['Categoricalprevious']=pd.qcut(df['previous'],1)\n",
        "df['Categoricalprevious']"
      ],
      "execution_count": null,
      "outputs": [
        {
          "output_type": "execute_result",
          "data": {
            "text/plain": [
              "0        (-0.001, 0.0]\n",
              "1        (-0.001, 0.0]\n",
              "2        (-0.001, 0.0]\n",
              "3        (-0.001, 0.0]\n",
              "4        (-0.001, 0.0]\n",
              "             ...      \n",
              "45206    (-0.001, 0.0]\n",
              "45207    (-0.001, 0.0]\n",
              "45208    (-0.001, 0.0]\n",
              "45209    (-0.001, 0.0]\n",
              "45210    (-0.001, 0.0]\n",
              "Name: Categoricalprevious, Length: 45211, dtype: category\n",
              "Categories (1, interval[float64]): [(-0.001, 0.0]]"
            ]
          },
          "metadata": {},
          "execution_count": 42
        }
      ]
    },
    {
      "cell_type": "code",
      "metadata": {
        "colab": {
          "base_uri": "https://localhost:8080/"
        },
        "id": "y_Dnimspl9wX",
        "outputId": "eaa9670d-6178-447c-c4c2-31f9574e90e3"
      },
      "source": [
        "df.duplicated().sum()   # total number of duplicate records"
      ],
      "execution_count": null,
      "outputs": [
        {
          "output_type": "execute_result",
          "data": {
            "text/plain": [
              "0"
            ]
          },
          "metadata": {},
          "execution_count": 43
        }
      ]
    },
    {
      "cell_type": "code",
      "metadata": {
        "id": "6r1zrjx0l9zZ"
      },
      "source": [
        "df['job']=df['job'].astype('category')\n",
        "df['job_encode']=df['job'].cat.codes\n",
        "df[\"marital\"]=df[\"marital\"].astype('category')  # convert to category\n",
        "df['marital_encode']=df[\"marital\"].cat.codes  # number is given to each category\n",
        "df[\"education\"]=df[\"education\"].astype('category')\n",
        "df['education_encode']=df[\"education\"].cat.codes\n",
        "df[\"default\"]=df[\"default\"].astype('category')\n",
        "df['default_encode']=df[\"default\"].cat.codes\n",
        "df[\"housing\"]=df[\"housing\"].astype('category')\n",
        "df['housing_encode']=df[\"housing\"].cat.codes\n",
        "df[\"loan\"]=df[\"loan\"].astype('category')\n",
        "df['loan_encode']=df[\"loan\"].cat.codes\n",
        "df[\"contact\"]=df[\"contact\"].astype('category')\n",
        "df['contact_encode']=df[\"contact\"].cat.codes\n",
        "df[\"month\"]=df[\"month\"].astype('category')\n",
        "df['month_encode']=df[\"month\"].cat.codes\n",
        "df[\"poutcome\"]=df[\"poutcome\"].astype('category')\n",
        "df['poutcome_encode']=df[\"poutcome\"].cat.codes\n",
        "df[\"y\"]=df[\"y\"].astype('category')\n",
        "df['y_encode']=df[\"y\"].cat.codes\n",
        "\n",
        "df[\"CategoricalAge\"]=df[\"CategoricalAge\"].astype('category')\n",
        "df['CategoricalAge_encode']=df[\"CategoricalAge\"].cat.codes\n",
        "df[\"CategoricalBalance\"]=df[\"CategoricalBalance\"].astype('category')\n",
        "df['CategoricalBalance_encode']=df[\"CategoricalBalance\"].cat.codes\n",
        "df[\"CategoricalDay\"]=df[\"CategoricalDay\"].astype('category')\n",
        "df['CategoricalDay_encode']=df[\"CategoricalDay\"].cat.codes\n",
        "df[\"CategoricalDuration\"]=df[\"CategoricalDuration\"].astype('category')\n",
        "df['CategoricalDuration_encode']=df[\"CategoricalDuration\"].cat.codes\n",
        "df[\"CategoricalCampaign\"]=df[\"CategoricalCampaign\"].astype('category')\n",
        "df['CategoricalCampaign_encode']=df[\"CategoricalCampaign\"].cat.codes\n",
        "df[\"Categoricalpdays\"]=df[\"Categoricalpdays\"].astype('category')\n",
        "df['Categoricalpdays_encode']=df[\"Categoricalpdays\"].cat.codes\n",
        "df[\"Categoricalprevious\"]=df[\"Categoricalprevious\"].astype('category')\n",
        "df['Categoricalprevious_encode']=df[\"Categoricalprevious\"].cat.codes"
      ],
      "execution_count": null,
      "outputs": []
    },
    {
      "cell_type": "code",
      "metadata": {
        "colab": {
          "base_uri": "https://localhost:8080/"
        },
        "id": "UcpgNwKUl93u",
        "outputId": "746dbe30-74b1-422e-87d5-6298583a219a"
      },
      "source": [
        "df.columns"
      ],
      "execution_count": null,
      "outputs": [
        {
          "output_type": "execute_result",
          "data": {
            "text/plain": [
              "Index(['age', 'job', 'marital', 'education', 'default', 'balance', 'housing',\n",
              "       'loan', 'contact', 'day', 'month', 'duration', 'campaign', 'pdays',\n",
              "       'previous', 'poutcome', 'y', 'CategoricalAge', 'CategoricalBalance',\n",
              "       'CategoricalDay', 'CategoricalDuration', 'CategoricalCampaign',\n",
              "       'Categoricalpdays', 'Categoricalprevious', 'job_encode',\n",
              "       'marital_encode', 'education_encode', 'default_encode',\n",
              "       'housing_encode', 'loan_encode', 'contact_encode', 'month_encode',\n",
              "       'poutcome_encode', 'y_encode', 'CategoricalAge_encode',\n",
              "       'CategoricalBalance_encode', 'CategoricalDay_encode',\n",
              "       'CategoricalDuration_encode', 'CategoricalCampaign_encode',\n",
              "       'Categoricalpdays_encode', 'Categoricalprevious_encode'],\n",
              "      dtype='object')"
            ]
          },
          "metadata": {},
          "execution_count": 45
        }
      ]
    },
    {
      "cell_type": "code",
      "metadata": {
        "id": "nhFalF04l98B"
      },
      "source": [
        "drop_elements=['age', 'job', 'marital', 'education', 'default', 'balance', 'housing',\n",
        "       'loan', 'contact', 'day', 'month', 'duration', 'campaign', 'pdays',\n",
        "       'previous', 'poutcome', 'y','CategoricalAge', 'CategoricalBalance',\n",
        "       'CategoricalDay', 'CategoricalDuration', 'CategoricalCampaign',\n",
        "       'Categoricalpdays', 'Categoricalprevious']\n",
        "df_cleaned=df.drop(drop_elements,axis=1)"
      ],
      "execution_count": null,
      "outputs": []
    },
    {
      "cell_type": "markdown",
      "metadata": {
        "id": "S8ck3Zgy8fxA"
      },
      "source": [
        "**Getting cleaned data**"
      ]
    },
    {
      "cell_type": "code",
      "metadata": {
        "colab": {
          "base_uri": "https://localhost:8080/",
          "height": 226
        },
        "id": "HR1u7HmBl-AT",
        "outputId": "0a9449b9-2415-4cca-b41a-d1e29230c70b"
      },
      "source": [
        "df_cleaned.head()"
      ],
      "execution_count": null,
      "outputs": [
        {
          "output_type": "execute_result",
          "data": {
            "text/html": [
              "<div>\n",
              "<style scoped>\n",
              "    .dataframe tbody tr th:only-of-type {\n",
              "        vertical-align: middle;\n",
              "    }\n",
              "\n",
              "    .dataframe tbody tr th {\n",
              "        vertical-align: top;\n",
              "    }\n",
              "\n",
              "    .dataframe thead th {\n",
              "        text-align: right;\n",
              "    }\n",
              "</style>\n",
              "<table border=\"1\" class=\"dataframe\">\n",
              "  <thead>\n",
              "    <tr style=\"text-align: right;\">\n",
              "      <th></th>\n",
              "      <th>job_encode</th>\n",
              "      <th>marital_encode</th>\n",
              "      <th>education_encode</th>\n",
              "      <th>default_encode</th>\n",
              "      <th>housing_encode</th>\n",
              "      <th>loan_encode</th>\n",
              "      <th>contact_encode</th>\n",
              "      <th>month_encode</th>\n",
              "      <th>poutcome_encode</th>\n",
              "      <th>y_encode</th>\n",
              "      <th>CategoricalAge_encode</th>\n",
              "      <th>CategoricalBalance_encode</th>\n",
              "      <th>CategoricalDay_encode</th>\n",
              "      <th>CategoricalDuration_encode</th>\n",
              "      <th>CategoricalCampaign_encode</th>\n",
              "      <th>Categoricalpdays_encode</th>\n",
              "      <th>Categoricalprevious_encode</th>\n",
              "    </tr>\n",
              "  </thead>\n",
              "  <tbody>\n",
              "    <tr>\n",
              "      <th>0</th>\n",
              "      <td>4</td>\n",
              "      <td>1</td>\n",
              "      <td>2</td>\n",
              "      <td>0</td>\n",
              "      <td>1</td>\n",
              "      <td>0</td>\n",
              "      <td>2</td>\n",
              "      <td>8</td>\n",
              "      <td>3</td>\n",
              "      <td>0</td>\n",
              "      <td>3</td>\n",
              "      <td>3</td>\n",
              "      <td>0</td>\n",
              "      <td>2</td>\n",
              "      <td>0</td>\n",
              "      <td>0</td>\n",
              "      <td>0</td>\n",
              "    </tr>\n",
              "    <tr>\n",
              "      <th>1</th>\n",
              "      <td>9</td>\n",
              "      <td>2</td>\n",
              "      <td>1</td>\n",
              "      <td>0</td>\n",
              "      <td>1</td>\n",
              "      <td>0</td>\n",
              "      <td>2</td>\n",
              "      <td>8</td>\n",
              "      <td>3</td>\n",
              "      <td>0</td>\n",
              "      <td>2</td>\n",
              "      <td>0</td>\n",
              "      <td>0</td>\n",
              "      <td>1</td>\n",
              "      <td>0</td>\n",
              "      <td>0</td>\n",
              "      <td>0</td>\n",
              "    </tr>\n",
              "    <tr>\n",
              "      <th>2</th>\n",
              "      <td>2</td>\n",
              "      <td>1</td>\n",
              "      <td>1</td>\n",
              "      <td>0</td>\n",
              "      <td>1</td>\n",
              "      <td>1</td>\n",
              "      <td>2</td>\n",
              "      <td>8</td>\n",
              "      <td>3</td>\n",
              "      <td>0</td>\n",
              "      <td>0</td>\n",
              "      <td>0</td>\n",
              "      <td>0</td>\n",
              "      <td>0</td>\n",
              "      <td>0</td>\n",
              "      <td>0</td>\n",
              "      <td>0</td>\n",
              "    </tr>\n",
              "    <tr>\n",
              "      <th>3</th>\n",
              "      <td>1</td>\n",
              "      <td>1</td>\n",
              "      <td>3</td>\n",
              "      <td>0</td>\n",
              "      <td>1</td>\n",
              "      <td>0</td>\n",
              "      <td>2</td>\n",
              "      <td>8</td>\n",
              "      <td>3</td>\n",
              "      <td>0</td>\n",
              "      <td>2</td>\n",
              "      <td>3</td>\n",
              "      <td>0</td>\n",
              "      <td>0</td>\n",
              "      <td>0</td>\n",
              "      <td>0</td>\n",
              "      <td>0</td>\n",
              "    </tr>\n",
              "    <tr>\n",
              "      <th>4</th>\n",
              "      <td>11</td>\n",
              "      <td>2</td>\n",
              "      <td>3</td>\n",
              "      <td>0</td>\n",
              "      <td>0</td>\n",
              "      <td>0</td>\n",
              "      <td>2</td>\n",
              "      <td>8</td>\n",
              "      <td>3</td>\n",
              "      <td>0</td>\n",
              "      <td>0</td>\n",
              "      <td>0</td>\n",
              "      <td>0</td>\n",
              "      <td>2</td>\n",
              "      <td>0</td>\n",
              "      <td>0</td>\n",
              "      <td>0</td>\n",
              "    </tr>\n",
              "  </tbody>\n",
              "</table>\n",
              "</div>"
            ],
            "text/plain": [
              "   job_encode  ...  Categoricalprevious_encode\n",
              "0           4  ...                           0\n",
              "1           9  ...                           0\n",
              "2           2  ...                           0\n",
              "3           1  ...                           0\n",
              "4          11  ...                           0\n",
              "\n",
              "[5 rows x 17 columns]"
            ]
          },
          "metadata": {},
          "execution_count": 47
        }
      ]
    },
    {
      "cell_type": "code",
      "metadata": {
        "id": "5OMIgjG2lo9E"
      },
      "source": [
        ""
      ],
      "execution_count": null,
      "outputs": []
    },
    {
      "cell_type": "code",
      "metadata": {
        "colab": {
          "base_uri": "https://localhost:8080/"
        },
        "id": "yHzqKmtYZKSv",
        "outputId": "41bc4128-b2a9-4626-dc88-bf995b4522fc"
      },
      "source": [
        "sum(n<0 for n in df_cleaned.values.flatten()) # find how many negative values are there in my dataset"
      ],
      "execution_count": null,
      "outputs": [
        {
          "output_type": "execute_result",
          "data": {
            "text/plain": [
              "0"
            ]
          },
          "metadata": {},
          "execution_count": 48
        }
      ]
    },
    {
      "cell_type": "code",
      "metadata": {
        "colab": {
          "base_uri": "https://localhost:8080/"
        },
        "id": "IQCAVZdMl-Dx",
        "outputId": "69487e28-b2a1-4ab8-d8b8-6fea18257765"
      },
      "source": [
        "df_cleaned.shape"
      ],
      "execution_count": null,
      "outputs": [
        {
          "output_type": "execute_result",
          "data": {
            "text/plain": [
              "(45211, 17)"
            ]
          },
          "metadata": {},
          "execution_count": 49
        }
      ]
    },
    {
      "cell_type": "markdown",
      "metadata": {
        "id": "UPRnJqgqYz5_"
      },
      "source": [
        "# **Data Correlation**    \n",
        "\n",
        "\n",
        "---\n",
        "\n"
      ]
    },
    {
      "cell_type": "markdown",
      "metadata": {
        "id": "0RPicLUwpq38"
      },
      "source": [
        "To obtain the detailed information about data correlation, correlation matrix is used. The correlation matrix gives information about how the two variables interact, both the direction and magnitude."
      ]
    },
    {
      "cell_type": "code",
      "metadata": {
        "id": "vmrLGI9kl-HD",
        "colab": {
          "base_uri": "https://localhost:8080/",
          "height": 602
        },
        "outputId": "08335942-e304-4cb9-8c6c-6d8bfbe2ce87"
      },
      "source": [
        "# find corelation values\n",
        "corelation=df_cleaned.corr()\n",
        "corelation"
      ],
      "execution_count": null,
      "outputs": [
        {
          "output_type": "execute_result",
          "data": {
            "text/html": [
              "<div>\n",
              "<style scoped>\n",
              "    .dataframe tbody tr th:only-of-type {\n",
              "        vertical-align: middle;\n",
              "    }\n",
              "\n",
              "    .dataframe tbody tr th {\n",
              "        vertical-align: top;\n",
              "    }\n",
              "\n",
              "    .dataframe thead th {\n",
              "        text-align: right;\n",
              "    }\n",
              "</style>\n",
              "<table border=\"1\" class=\"dataframe\">\n",
              "  <thead>\n",
              "    <tr style=\"text-align: right;\">\n",
              "      <th></th>\n",
              "      <th>job_encode</th>\n",
              "      <th>marital_encode</th>\n",
              "      <th>education_encode</th>\n",
              "      <th>default_encode</th>\n",
              "      <th>housing_encode</th>\n",
              "      <th>loan_encode</th>\n",
              "      <th>contact_encode</th>\n",
              "      <th>month_encode</th>\n",
              "      <th>poutcome_encode</th>\n",
              "      <th>y_encode</th>\n",
              "      <th>CategoricalAge_encode</th>\n",
              "      <th>CategoricalBalance_encode</th>\n",
              "      <th>CategoricalDay_encode</th>\n",
              "      <th>CategoricalDuration_encode</th>\n",
              "      <th>CategoricalCampaign_encode</th>\n",
              "      <th>Categoricalpdays_encode</th>\n",
              "      <th>Categoricalprevious_encode</th>\n",
              "    </tr>\n",
              "  </thead>\n",
              "  <tbody>\n",
              "    <tr>\n",
              "      <th>job_encode</th>\n",
              "      <td>1.000000</td>\n",
              "      <td>0.062045</td>\n",
              "      <td>0.166707</td>\n",
              "      <td>-0.006853</td>\n",
              "      <td>-0.125363</td>\n",
              "      <td>-0.033004</td>\n",
              "      <td>-0.082063</td>\n",
              "      <td>-0.092870</td>\n",
              "      <td>0.011010</td>\n",
              "      <td>0.040438</td>\n",
              "      <td>-0.032314</td>\n",
              "      <td>0.020563</td>\n",
              "      <td>0.026839</td>\n",
              "      <td>0.002222</td>\n",
              "      <td>0.003815</td>\n",
              "      <td>NaN</td>\n",
              "      <td>NaN</td>\n",
              "    </tr>\n",
              "    <tr>\n",
              "      <th>marital_encode</th>\n",
              "      <td>0.062045</td>\n",
              "      <td>1.000000</td>\n",
              "      <td>0.108576</td>\n",
              "      <td>-0.007023</td>\n",
              "      <td>-0.016096</td>\n",
              "      <td>-0.046893</td>\n",
              "      <td>-0.039201</td>\n",
              "      <td>-0.006991</td>\n",
              "      <td>-0.016850</td>\n",
              "      <td>0.045588</td>\n",
              "      <td>-0.409601</td>\n",
              "      <td>0.022481</td>\n",
              "      <td>-0.004185</td>\n",
              "      <td>0.017125</td>\n",
              "      <td>-0.022264</td>\n",
              "      <td>NaN</td>\n",
              "      <td>NaN</td>\n",
              "    </tr>\n",
              "    <tr>\n",
              "      <th>education_encode</th>\n",
              "      <td>0.166707</td>\n",
              "      <td>0.108576</td>\n",
              "      <td>1.000000</td>\n",
              "      <td>-0.010718</td>\n",
              "      <td>-0.090790</td>\n",
              "      <td>-0.048574</td>\n",
              "      <td>-0.110928</td>\n",
              "      <td>-0.057304</td>\n",
              "      <td>-0.019361</td>\n",
              "      <td>0.066241</td>\n",
              "      <td>-0.107392</td>\n",
              "      <td>0.064818</td>\n",
              "      <td>0.027494</td>\n",
              "      <td>-0.004973</td>\n",
              "      <td>-0.007366</td>\n",
              "      <td>NaN</td>\n",
              "      <td>NaN</td>\n",
              "    </tr>\n",
              "    <tr>\n",
              "      <th>default_encode</th>\n",
              "      <td>-0.006853</td>\n",
              "      <td>-0.007023</td>\n",
              "      <td>-0.010718</td>\n",
              "      <td>1.000000</td>\n",
              "      <td>-0.006025</td>\n",
              "      <td>0.077234</td>\n",
              "      <td>0.015404</td>\n",
              "      <td>0.011486</td>\n",
              "      <td>0.034898</td>\n",
              "      <td>-0.022419</td>\n",
              "      <td>-0.012400</td>\n",
              "      <td>-0.154633</td>\n",
              "      <td>0.009550</td>\n",
              "      <td>-0.006905</td>\n",
              "      <td>0.014677</td>\n",
              "      <td>NaN</td>\n",
              "      <td>NaN</td>\n",
              "    </tr>\n",
              "    <tr>\n",
              "      <th>housing_encode</th>\n",
              "      <td>-0.125363</td>\n",
              "      <td>-0.016096</td>\n",
              "      <td>-0.090790</td>\n",
              "      <td>-0.006025</td>\n",
              "      <td>1.000000</td>\n",
              "      <td>0.041323</td>\n",
              "      <td>0.188123</td>\n",
              "      <td>0.271481</td>\n",
              "      <td>-0.099971</td>\n",
              "      <td>-0.139173</td>\n",
              "      <td>-0.145524</td>\n",
              "      <td>-0.055674</td>\n",
              "      <td>-0.044147</td>\n",
              "      <td>0.005279</td>\n",
              "      <td>-0.025705</td>\n",
              "      <td>NaN</td>\n",
              "      <td>NaN</td>\n",
              "    </tr>\n",
              "    <tr>\n",
              "      <th>loan_encode</th>\n",
              "      <td>-0.033004</td>\n",
              "      <td>-0.046893</td>\n",
              "      <td>-0.048574</td>\n",
              "      <td>0.077234</td>\n",
              "      <td>0.041323</td>\n",
              "      <td>1.000000</td>\n",
              "      <td>-0.010873</td>\n",
              "      <td>0.022145</td>\n",
              "      <td>0.015458</td>\n",
              "      <td>-0.068185</td>\n",
              "      <td>0.001146</td>\n",
              "      <td>-0.116552</td>\n",
              "      <td>0.013126</td>\n",
              "      <td>-0.014285</td>\n",
              "      <td>0.004553</td>\n",
              "      <td>NaN</td>\n",
              "      <td>NaN</td>\n",
              "    </tr>\n",
              "    <tr>\n",
              "      <th>contact_encode</th>\n",
              "      <td>-0.082063</td>\n",
              "      <td>-0.039201</td>\n",
              "      <td>-0.110928</td>\n",
              "      <td>0.015404</td>\n",
              "      <td>0.188123</td>\n",
              "      <td>-0.010873</td>\n",
              "      <td>1.000000</td>\n",
              "      <td>0.361145</td>\n",
              "      <td>0.272214</td>\n",
              "      <td>-0.148395</td>\n",
              "      <td>0.047412</td>\n",
              "      <td>-0.034642</td>\n",
              "      <td>-0.035240</td>\n",
              "      <td>-0.025920</td>\n",
              "      <td>0.012608</td>\n",
              "      <td>NaN</td>\n",
              "      <td>NaN</td>\n",
              "    </tr>\n",
              "    <tr>\n",
              "      <th>month_encode</th>\n",
              "      <td>-0.092870</td>\n",
              "      <td>-0.006991</td>\n",
              "      <td>-0.057304</td>\n",
              "      <td>0.011486</td>\n",
              "      <td>0.271481</td>\n",
              "      <td>0.022145</td>\n",
              "      <td>0.361145</td>\n",
              "      <td>1.000000</td>\n",
              "      <td>-0.033038</td>\n",
              "      <td>-0.024471</td>\n",
              "      <td>-0.030929</td>\n",
              "      <td>0.006426</td>\n",
              "      <td>-0.018669</td>\n",
              "      <td>0.013790</td>\n",
              "      <td>-0.103845</td>\n",
              "      <td>NaN</td>\n",
              "      <td>NaN</td>\n",
              "    </tr>\n",
              "    <tr>\n",
              "      <th>poutcome_encode</th>\n",
              "      <td>0.011010</td>\n",
              "      <td>-0.016850</td>\n",
              "      <td>-0.019361</td>\n",
              "      <td>0.034898</td>\n",
              "      <td>-0.099971</td>\n",
              "      <td>0.015458</td>\n",
              "      <td>0.272214</td>\n",
              "      <td>-0.033038</td>\n",
              "      <td>1.000000</td>\n",
              "      <td>-0.077840</td>\n",
              "      <td>0.021123</td>\n",
              "      <td>-0.061636</td>\n",
              "      <td>0.083254</td>\n",
              "      <td>-0.007640</td>\n",
              "      <td>0.092305</td>\n",
              "      <td>NaN</td>\n",
              "      <td>NaN</td>\n",
              "    </tr>\n",
              "    <tr>\n",
              "      <th>y_encode</th>\n",
              "      <td>0.040438</td>\n",
              "      <td>0.045588</td>\n",
              "      <td>0.066241</td>\n",
              "      <td>-0.022419</td>\n",
              "      <td>-0.139173</td>\n",
              "      <td>-0.068185</td>\n",
              "      <td>-0.148395</td>\n",
              "      <td>-0.024471</td>\n",
              "      <td>-0.077840</td>\n",
              "      <td>1.000000</td>\n",
              "      <td>-0.010920</td>\n",
              "      <td>0.098725</td>\n",
              "      <td>-0.021198</td>\n",
              "      <td>0.316413</td>\n",
              "      <td>-0.065117</td>\n",
              "      <td>NaN</td>\n",
              "      <td>NaN</td>\n",
              "    </tr>\n",
              "    <tr>\n",
              "      <th>CategoricalAge_encode</th>\n",
              "      <td>-0.032314</td>\n",
              "      <td>-0.409601</td>\n",
              "      <td>-0.107392</td>\n",
              "      <td>-0.012400</td>\n",
              "      <td>-0.145524</td>\n",
              "      <td>0.001146</td>\n",
              "      <td>0.047412</td>\n",
              "      <td>-0.030929</td>\n",
              "      <td>0.021123</td>\n",
              "      <td>-0.010920</td>\n",
              "      <td>1.000000</td>\n",
              "      <td>0.085282</td>\n",
              "      <td>-0.010242</td>\n",
              "      <td>-0.039418</td>\n",
              "      <td>0.031934</td>\n",
              "      <td>NaN</td>\n",
              "      <td>NaN</td>\n",
              "    </tr>\n",
              "    <tr>\n",
              "      <th>CategoricalBalance_encode</th>\n",
              "      <td>0.020563</td>\n",
              "      <td>0.022481</td>\n",
              "      <td>0.064818</td>\n",
              "      <td>-0.154633</td>\n",
              "      <td>-0.055674</td>\n",
              "      <td>-0.116552</td>\n",
              "      <td>-0.034642</td>\n",
              "      <td>0.006426</td>\n",
              "      <td>-0.061636</td>\n",
              "      <td>0.098725</td>\n",
              "      <td>0.085282</td>\n",
              "      <td>1.000000</td>\n",
              "      <td>-0.001014</td>\n",
              "      <td>0.039126</td>\n",
              "      <td>-0.027001</td>\n",
              "      <td>NaN</td>\n",
              "      <td>NaN</td>\n",
              "    </tr>\n",
              "    <tr>\n",
              "      <th>CategoricalDay_encode</th>\n",
              "      <td>0.026839</td>\n",
              "      <td>-0.004185</td>\n",
              "      <td>0.027494</td>\n",
              "      <td>0.009550</td>\n",
              "      <td>-0.044147</td>\n",
              "      <td>0.013126</td>\n",
              "      <td>-0.035240</td>\n",
              "      <td>-0.018669</td>\n",
              "      <td>0.083254</td>\n",
              "      <td>-0.021198</td>\n",
              "      <td>-0.010242</td>\n",
              "      <td>-0.001014</td>\n",
              "      <td>1.000000</td>\n",
              "      <td>-0.056130</td>\n",
              "      <td>0.112138</td>\n",
              "      <td>NaN</td>\n",
              "      <td>NaN</td>\n",
              "    </tr>\n",
              "    <tr>\n",
              "      <th>CategoricalDuration_encode</th>\n",
              "      <td>0.002222</td>\n",
              "      <td>0.017125</td>\n",
              "      <td>-0.004973</td>\n",
              "      <td>-0.006905</td>\n",
              "      <td>0.005279</td>\n",
              "      <td>-0.014285</td>\n",
              "      <td>-0.025920</td>\n",
              "      <td>0.013790</td>\n",
              "      <td>-0.007640</td>\n",
              "      <td>0.316413</td>\n",
              "      <td>-0.039418</td>\n",
              "      <td>0.039126</td>\n",
              "      <td>-0.056130</td>\n",
              "      <td>1.000000</td>\n",
              "      <td>-0.102755</td>\n",
              "      <td>NaN</td>\n",
              "      <td>NaN</td>\n",
              "    </tr>\n",
              "    <tr>\n",
              "      <th>CategoricalCampaign_encode</th>\n",
              "      <td>0.003815</td>\n",
              "      <td>-0.022264</td>\n",
              "      <td>-0.007366</td>\n",
              "      <td>0.014677</td>\n",
              "      <td>-0.025705</td>\n",
              "      <td>0.004553</td>\n",
              "      <td>0.012608</td>\n",
              "      <td>-0.103845</td>\n",
              "      <td>0.092305</td>\n",
              "      <td>-0.065117</td>\n",
              "      <td>0.031934</td>\n",
              "      <td>-0.027001</td>\n",
              "      <td>0.112138</td>\n",
              "      <td>-0.102755</td>\n",
              "      <td>1.000000</td>\n",
              "      <td>NaN</td>\n",
              "      <td>NaN</td>\n",
              "    </tr>\n",
              "    <tr>\n",
              "      <th>Categoricalpdays_encode</th>\n",
              "      <td>NaN</td>\n",
              "      <td>NaN</td>\n",
              "      <td>NaN</td>\n",
              "      <td>NaN</td>\n",
              "      <td>NaN</td>\n",
              "      <td>NaN</td>\n",
              "      <td>NaN</td>\n",
              "      <td>NaN</td>\n",
              "      <td>NaN</td>\n",
              "      <td>NaN</td>\n",
              "      <td>NaN</td>\n",
              "      <td>NaN</td>\n",
              "      <td>NaN</td>\n",
              "      <td>NaN</td>\n",
              "      <td>NaN</td>\n",
              "      <td>NaN</td>\n",
              "      <td>NaN</td>\n",
              "    </tr>\n",
              "    <tr>\n",
              "      <th>Categoricalprevious_encode</th>\n",
              "      <td>NaN</td>\n",
              "      <td>NaN</td>\n",
              "      <td>NaN</td>\n",
              "      <td>NaN</td>\n",
              "      <td>NaN</td>\n",
              "      <td>NaN</td>\n",
              "      <td>NaN</td>\n",
              "      <td>NaN</td>\n",
              "      <td>NaN</td>\n",
              "      <td>NaN</td>\n",
              "      <td>NaN</td>\n",
              "      <td>NaN</td>\n",
              "      <td>NaN</td>\n",
              "      <td>NaN</td>\n",
              "      <td>NaN</td>\n",
              "      <td>NaN</td>\n",
              "      <td>NaN</td>\n",
              "    </tr>\n",
              "  </tbody>\n",
              "</table>\n",
              "</div>"
            ],
            "text/plain": [
              "                            job_encode  ...  Categoricalprevious_encode\n",
              "job_encode                    1.000000  ...                         NaN\n",
              "marital_encode                0.062045  ...                         NaN\n",
              "education_encode              0.166707  ...                         NaN\n",
              "default_encode               -0.006853  ...                         NaN\n",
              "housing_encode               -0.125363  ...                         NaN\n",
              "loan_encode                  -0.033004  ...                         NaN\n",
              "contact_encode               -0.082063  ...                         NaN\n",
              "month_encode                 -0.092870  ...                         NaN\n",
              "poutcome_encode               0.011010  ...                         NaN\n",
              "y_encode                      0.040438  ...                         NaN\n",
              "CategoricalAge_encode        -0.032314  ...                         NaN\n",
              "CategoricalBalance_encode     0.020563  ...                         NaN\n",
              "CategoricalDay_encode         0.026839  ...                         NaN\n",
              "CategoricalDuration_encode    0.002222  ...                         NaN\n",
              "CategoricalCampaign_encode    0.003815  ...                         NaN\n",
              "Categoricalpdays_encode            NaN  ...                         NaN\n",
              "Categoricalprevious_encode         NaN  ...                         NaN\n",
              "\n",
              "[17 rows x 17 columns]"
            ]
          },
          "metadata": {},
          "execution_count": 50
        }
      ]
    },
    {
      "cell_type": "code",
      "metadata": {
        "id": "gBFLyr7Wl-J-",
        "colab": {
          "base_uri": "https://localhost:8080/",
          "height": 752
        },
        "outputId": "8c593559-700d-48ed-f3c1-2e7a8f4d3841"
      },
      "source": [
        "colormap=plt.cm.Blues\n",
        "plt.figure(figsize=(14,10))\n",
        "sns.heatmap(df_cleaned.corr(),cmap=colormap,annot=True,linewidths=0.2)"
      ],
      "execution_count": null,
      "outputs": [
        {
          "output_type": "execute_result",
          "data": {
            "text/plain": [
              "<matplotlib.axes._subplots.AxesSubplot at 0x7f0483f74650>"
            ]
          },
          "metadata": {},
          "execution_count": 51
        },
        {
          "output_type": "display_data",
          "data": {
            "image/png": "[encoded data removed]",
            "text/plain": [
              "<Figure size 1008x720 with 2 Axes>"
            ]
          },
          "metadata": {
            "needs_background": "light"
          }
        }
      ]
    },
    {
      "cell_type": "markdown",
      "metadata": {
        "id": "bMbScz4IqCyk"
      },
      "source": [
        "\n",
        "\n",
        "---\n",
        "\n",
        "\n",
        "The correlation coefficient ranges from –1 to 1. \n",
        "\n",
        "When it is close to 1, it means that there is a strong positive correlation; \n",
        "\n",
        "When the coefficient is close to –1, it means that there is a strong negative correlation; \n",
        "\n",
        "When the coefficient is close to zero, it means that there is no linear correlation.\n",
        "\n",
        "\n",
        "\n",
        "\n"
      ]
    },
    {
      "cell_type": "markdown",
      "metadata": {
        "id": "j_7fUdlp8xkY"
      },
      "source": [
        "# **Balancing out the data**"
      ]
    },
    {
      "cell_type": "code",
      "metadata": {
        "colab": {
          "base_uri": "https://localhost:8080/"
        },
        "id": "zigXh6Raw7dB",
        "outputId": "1fea902c-5807-48fd-f985-eecbc9151f1e"
      },
      "source": [
        "df_cleaned['y_encode'].value_counts()"
      ],
      "execution_count": null,
      "outputs": [
        {
          "output_type": "execute_result",
          "data": {
            "text/plain": [
              "0    39922\n",
              "1     5289\n",
              "Name: y_encode, dtype: int64"
            ]
          },
          "metadata": {},
          "execution_count": 52
        }
      ]
    },
    {
      "cell_type": "code",
      "metadata": {
        "colab": {
          "base_uri": "https://localhost:8080/"
        },
        "id": "x8R9dXqQxGOV",
        "outputId": "39c3610f-a58a-4e21-9c29-835f8f339f03"
      },
      "source": [
        "from imblearn.over_sampling import SMOTE\n",
        "\n",
        "X = df_cleaned.drop('y_encode',axis=1)\n",
        "y = df_cleaned['y_encode']\n",
        "sm = SMOTE(random_state=42)\n",
        "\n",
        "X_sm, y_sm = sm.fit_resample(X, y)\n",
        "\n",
        "\n",
        "print(\"Shape of X before SMOTE: \",X.shape)\n",
        "print(\"Shape of X after SMOTE: \",X_sm.shape)"
      ],
      "execution_count": null,
      "outputs": [
        {
          "output_type": "stream",
          "name": "stderr",
          "text": [
            "/usr/local/lib/python3.7/dist-packages/sklearn/externals/six.py:31: FutureWarning: The module is deprecated in version 0.21 and will be removed in version 0.23 since we've dropped support for Python 2.7. Please rely on the official version of six (https://pypi.org/project/six/).\n",
            "  \"(https://pypi.org/project/six/).\", FutureWarning)\n",
            "/usr/local/lib/python3.7/dist-packages/sklearn/utils/deprecation.py:144: FutureWarning: The sklearn.neighbors.base module is  deprecated in version 0.22 and will be removed in version 0.24. The corresponding classes / functions should instead be imported from sklearn.neighbors. Anything that cannot be imported from sklearn.neighbors is now part of the private API.\n",
            "  warnings.warn(message, FutureWarning)\n",
            "/usr/local/lib/python3.7/dist-packages/sklearn/utils/deprecation.py:87: FutureWarning: Function safe_indexing is deprecated; safe_indexing is deprecated in version 0.22 and will be removed in version 0.24.\n",
            "  warnings.warn(msg, category=FutureWarning)\n"
          ]
        },
        {
          "output_type": "stream",
          "name": "stdout",
          "text": [
            "Shape of X before SMOTE:  (45211, 16)\n",
            "Shape of X after SMOTE:  (79844, 16)\n"
          ]
        }
      ]
    },
    {
      "cell_type": "markdown",
      "metadata": {
        "id": "z6asxa8DYfGm"
      },
      "source": [
        "# **Train Test Split**"
      ]
    },
    {
      "cell_type": "code",
      "metadata": {
        "id": "AyOQH_bvxa-S"
      },
      "source": [
        "from sklearn.model_selection import train_test_split\n",
        "\n",
        "X_train, X_test, y_train, y_test = train_test_split(X_sm,y_sm,test_size=0.2,random_state=5, shuffle=True)"
      ],
      "execution_count": null,
      "outputs": []
    },
    {
      "cell_type": "markdown",
      "metadata": {
        "id": "AUsRRl7swteg"
      },
      "source": [
        "# **MACHINE LEARNING MODELS**"
      ]
    },
    {
      "cell_type": "markdown",
      "metadata": {
        "id": "jUzy-uTDXVrg"
      },
      "source": [
        "# **Logistic Regression**"
      ]
    },
    {
      "cell_type": "markdown",
      "metadata": {
        "id": "IY_eP1IZx-pZ"
      },
      "source": [
        "Logistic regression is one of the most popular Machine Learning algorithms, which comes under the Supervised Learning technique. It is used for predicting the categorical dependent variable using a given set of independent variables.\n",
        "\n",
        "\n",
        "---\n",
        "\n"
      ]
    },
    {
      "cell_type": "code",
      "metadata": {
        "id": "FMCPGP67l-TQ"
      },
      "source": [
        "from sklearn.linear_model import LogisticRegression\n",
        "model = LogisticRegression()    # Making an instance of the Model.\n",
        "model.fit(X_train,y_train)      # learning the relationship between X_train and y_train.\n",
        "y_pred = model.predict(X_test)  # prediction"
      ],
      "execution_count": null,
      "outputs": []
    },
    {
      "cell_type": "markdown",
      "metadata": {
        "id": "f1iA045eW6cM"
      },
      "source": [
        "### *Classification Report*\n",
        "\n",
        "\n",
        "---\n",
        "\n"
      ]
    },
    {
      "cell_type": "markdown",
      "metadata": {
        "id": "BNTUxvP-6_pF"
      },
      "source": [
        "The classification report is used to display the precision, recall, F1, and support scores for the model.\n",
        "\n",
        "Precision:- Accuracy of positive predictions.\n",
        "\n",
        "Precision = TP/(TP + FP)\n",
        "\n",
        "Recall:- Fraction of positives that were correctly identified.\n",
        "\n",
        "Recall = TP/(TP+FN)\n",
        "\n",
        "F1 score - weighted harmonic mean of precision and recall \n",
        "\n",
        "F1 Score = 2*(Recall * Precision) / (Recall + Precision)\n",
        "\n",
        "Support is the number of actual occurrences of the class in the specified dataset. "
      ]
    },
    {
      "cell_type": "code",
      "metadata": {
        "id": "pwYGBPmhl-Wg",
        "colab": {
          "base_uri": "https://localhost:8080/"
        },
        "outputId": "bb1e7f28-1274-4ff6-a7cb-9ac7b30d38e7"
      },
      "source": [
        "import sklearn.metrics as met\n",
        "from sklearn.metrics import accuracy_score,classification_report\n",
        "cr = classification_report(y_test,y_pred)   # Build a text report showing the main classification metrics.\n",
        "print(cr)\n",
        "accuracyscore=met.accuracy_score(y_test, y_pred)*100   # for getting the accuracy score in percentage multiply by 100\n",
        "print('\\n')\n",
        "print('Accuracy score given for test data:',str(accuracyscore))"
      ],
      "execution_count": null,
      "outputs": [
        {
          "output_type": "stream",
          "name": "stdout",
          "text": [
            "              precision    recall  f1-score   support\n",
            "\n",
            "           0       0.81      0.77      0.79      8013\n",
            "           1       0.78      0.82      0.80      7956\n",
            "\n",
            "    accuracy                           0.80     15969\n",
            "   macro avg       0.80      0.80      0.80     15969\n",
            "weighted avg       0.80      0.80      0.80     15969\n",
            "\n",
            "\n",
            "\n",
            "Accuracy score given for test data: 79.57292253741625\n"
          ]
        }
      ]
    },
    {
      "cell_type": "markdown",
      "metadata": {
        "id": "v1VPXmSLWQ7A"
      },
      "source": [
        "### *Confusion Matrix*\n",
        "\n",
        "\n",
        "---\n",
        "\n"
      ]
    },
    {
      "cell_type": "markdown",
      "metadata": {
        "id": "n-lcPwYM85Zf"
      },
      "source": [
        "A Confusion matrix is an N x N matrix used for evaluating the performance of a classification model, where N is the number of target classes. The matrix compares the actual target values with those predicted by the machine learning model. \n",
        "\n",
        "The target variable has two values: Positive(1) or Negative(0)\n",
        "The columns represent the actual values of the target variable\n",
        "The rows represent the predicted values of the target variable\n",
        "\n",
        "There are four ways to check if the predictions are right or wrong:\n",
        "\n",
        "TN / True Negative: the case was negative and predicted negative\n",
        "\n",
        "TP / True Positive: the case was positive and predicted positive\n",
        "\n",
        "FN / False Negative: the case was positive but predicted negative (Type 2 error)\n",
        "\n",
        "FP / False Positive: the case was negative but predicted positive (Type 1 error)\n"
      ]
    },
    {
      "cell_type": "code",
      "metadata": {
        "id": "mrImggY2l-Zb",
        "colab": {
          "base_uri": "https://localhost:8080/",
          "height": 296
        },
        "outputId": "c4bad5ce-084e-4858-df77-d7443f0ed26b"
      },
      "source": [
        "# Confusion Matrix\n",
        "import seaborn as sns\n",
        "import matplotlib.pyplot as pt\n",
        "from sklearn.metrics import confusion_matrix\n",
        "conmat=confusion_matrix(y_test,y_pred)   # Compute confusion matrix to evaluate the accuracy of a classification.\n",
        "sns.heatmap(conmat.T, square=True, annot=True, fmt='d', cbar=False,cmap='autumn') # square=True, set the Axes aspect to “equal” so each cell will be square-shaped.    # annot=True write the data value in each cell.  # cbar=False means Whether to draw a colorbar.\n",
        "pt.xlabel('Actual class') \n",
        "pt.ylabel('Predicted class')"
      ],
      "execution_count": null,
      "outputs": [
        {
          "output_type": "execute_result",
          "data": {
            "text/plain": [
              "Text(91.68, 0.5, 'Predicted class')"
            ]
          },
          "metadata": {},
          "execution_count": 57
        },
        {
          "output_type": "display_data",
          "data": {
            "image/png": "[encoded data removed]",
            "text/plain": [
              "<Figure size 432x288 with 1 Axes>"
            ]
          },
          "metadata": {
            "needs_background": "light"
          }
        }
      ]
    },
    {
      "cell_type": "markdown",
      "metadata": {
        "id": "FdgyofozXM3n"
      },
      "source": [
        "### *roc_curve*\n",
        "\n",
        "\n",
        "---\n",
        "\n"
      ]
    },
    {
      "cell_type": "markdown",
      "metadata": {
        "id": "v4BN8D2a9rKF"
      },
      "source": [
        "An ROC curve (receiver operating characteristic curve) is a graph showing the performance of a classification model at all classification thresholds. This curve plots two parameters: True Positive Rate. False Positive Rate."
      ]
    },
    {
      "cell_type": "code",
      "metadata": {
        "id": "Fr_olv3nl-c9",
        "colab": {
          "base_uri": "https://localhost:8080/",
          "height": 442
        },
        "outputId": "90b52f5e-6007-4c39-f927-198ed5bd3a71"
      },
      "source": [
        "from sklearn.metrics import roc_auc_score,roc_curve\n",
        "fpr,tpr, thresholds =roc_curve(y_test,model.predict_proba(X_test)[:,1])\n",
        "model_roc_auc=roc_auc_score(y_test,model.predict_proba(X_test)[:,1])\n",
        "\n",
        "import matplotlib.pyplot as plt\n",
        "plt.figure(figsize=(10,7))\n",
        "plt.plot(fpr,tpr,label='Logistic regression'%model_roc_auc)\n",
        "plt.plot([0,1],[0,1],'r--')    # red color in dashed\n",
        "plt.xlabel(\"False positive rate\")\n",
        "plt.ylabel(\"True positive rate\")\n",
        "plt.legend(loc=\"lower right\")\n",
        "plt.show()"
      ],
      "execution_count": null,
      "outputs": [
        {
          "output_type": "display_data",
          "data": {
            "image/png": "[encoded data removed]",
            "text/plain": [
              "<Figure size 720x504 with 1 Axes>"
            ]
          },
          "metadata": {
            "needs_background": "light"
          }
        }
      ]
    },
    {
      "cell_type": "markdown",
      "metadata": {
        "id": "xYXh_eF__bkK"
      },
      "source": [
        "False Positive Rates and True Postive rates for the Classifier are obtained because these will be used to plot the ROC Curve. This can be done by roc_curve module by passing the test dataset and the predicted data through it."
      ]
    },
    {
      "cell_type": "markdown",
      "metadata": {
        "id": "8ea_p-WtARXf"
      },
      "source": [
        "ROC curve has False Positive Rate (FPR) on the X-axis and True Positive Rate (TPR) on the Y-axis.\n",
        "\n",
        "\n",
        "---\n",
        "\n"
      ]
    },
    {
      "cell_type": "markdown",
      "metadata": {
        "id": "VKSDKndHAqCN"
      },
      "source": [
        "The area covered by the curve is the area between the blue line (ROC) and the axis. This area covered is AUC. The bigger the area covered, the better this machine learning model is at distinguishing the given classes.\n",
        "\n",
        "\n",
        "---\n",
        "\n"
      ]
    },
    {
      "cell_type": "markdown",
      "metadata": {
        "id": "THgzYiJrXjz3"
      },
      "source": [
        "# **GaussianNB**"
      ]
    },
    {
      "cell_type": "markdown",
      "metadata": {
        "id": "bSD-Hmvl1oo6"
      },
      "source": [
        "Naive Bayes is a supervised machine learning classification algorithms based on the Bayes theorem. Gaussian Naive Bayes is a variant of Naive Bayes that follows Gaussian normal distribution and supports continuous data. Gaussian NB is used because it is the easier to work with as it only needs to estimate the mean and the standard deviation from the training data.\n",
        "\n",
        "\n",
        "---\n",
        "\n"
      ]
    },
    {
      "cell_type": "code",
      "metadata": {
        "id": "H5EaGf0Tx9sY"
      },
      "source": [
        "from sklearn.naive_bayes import GaussianNB\n",
        "model1 = GaussianNB()    # Making an instance of the Model.\n",
        "model1.fit(X_train,y_train)      # learning the relationship between X_train and y_train.\n",
        "y_pred1 = model1.predict(X_test)  # prediction"
      ],
      "execution_count": null,
      "outputs": []
    },
    {
      "cell_type": "code",
      "metadata": {
        "colab": {
          "base_uri": "https://localhost:8080/"
        },
        "id": "5c7U-IqUx9sa",
        "outputId": "33106f83-2859-46ad-b94c-563652632c5a"
      },
      "source": [
        "import sklearn.metrics as met\n",
        "from sklearn.metrics import accuracy_score,classification_report\n",
        "cr = classification_report(y_test,y_pred1)   # Build a text report showing the main classification metrics.\n",
        "print(cr)\n",
        "accuracyscore=met.accuracy_score(y_test, y_pred1)*100   # for getting the accuracy score in percentage multiply by 100\n",
        "print('\\n')\n",
        "print('Accuracy score given for test data:',str(accuracyscore))"
      ],
      "execution_count": null,
      "outputs": [
        {
          "output_type": "stream",
          "name": "stdout",
          "text": [
            "              precision    recall  f1-score   support\n",
            "\n",
            "           0       0.84      0.59      0.70      8013\n",
            "           1       0.68      0.88      0.77      7956\n",
            "\n",
            "    accuracy                           0.74     15969\n",
            "   macro avg       0.76      0.74      0.73     15969\n",
            "weighted avg       0.76      0.74      0.73     15969\n",
            "\n",
            "\n",
            "\n",
            "Accuracy score given for test data: 73.81176028555326\n"
          ]
        }
      ]
    },
    {
      "cell_type": "code",
      "metadata": {
        "colab": {
          "base_uri": "https://localhost:8080/",
          "height": 296
        },
        "id": "cunMPLz5x9sg",
        "outputId": "ae11caee-a652-4a62-f599-5b19b0f00339"
      },
      "source": [
        "# Confusion Matrix\n",
        "import seaborn as sns\n",
        "import matplotlib.pyplot as pt\n",
        "from sklearn.metrics import confusion_matrix\n",
        "conmat=confusion_matrix(y_test,y_pred1)   # Compute confusion matrix to evaluate the accuracy of a classification.\n",
        "sns.heatmap(conmat.T, square=True, annot=True, fmt='d', cbar=False,cmap='Greens') # square=True, set the Axes aspect to “equal” so each cell will be square-shaped.    # annot=True write the data value in each cell.  # cbar=False means Whether to draw a colorbar.\n",
        "pt.xlabel('Actual class') \n",
        "pt.ylabel('Predicted class')"
      ],
      "execution_count": null,
      "outputs": [
        {
          "output_type": "execute_result",
          "data": {
            "text/plain": [
              "Text(91.68, 0.5, 'Predicted class')"
            ]
          },
          "metadata": {},
          "execution_count": 64
        },
        {
          "output_type": "display_data",
          "data": {
            "image/png": "[encoded data removed]",
            "text/plain": [
              "<Figure size 432x288 with 1 Axes>"
            ]
          },
          "metadata": {
            "needs_background": "light"
          }
        }
      ]
    },
    {
      "cell_type": "code",
      "metadata": {
        "colab": {
          "base_uri": "https://localhost:8080/",
          "height": 442
        },
        "id": "Wa_VSFPAx9si",
        "outputId": "bd23f737-8e05-4677-acc0-c27fa520f8a0"
      },
      "source": [
        "from sklearn.metrics import roc_auc_score,roc_curve\n",
        "fpr,tpr, thresholds =roc_curve(y_test,model1.predict_proba(X_test)[:,1])\n",
        "model1_roc_auc=roc_auc_score(y_test,model1.predict_proba(X_test)[:,1])\n",
        "\n",
        "import matplotlib.pyplot as plt\n",
        "plt.figure(figsize=(10,7))\n",
        "plt.plot(fpr,tpr,label='Naive Bayes'%model1_roc_auc)\n",
        "plt.plot([0,1],[0,1],'r--')    # red color in dashed\n",
        "plt.xlabel(\"False positive rate\")\n",
        "plt.ylabel(\"True positive rate\")\n",
        "plt.legend(loc=\"lower right\")\n",
        "plt.show()"
      ],
      "execution_count": null,
      "outputs": [
        {
          "output_type": "display_data",
          "data": {
            "image/png": "[encoded data removed]",
            "text/plain": [
              "<Figure size 720x504 with 1 Axes>"
            ]
          },
          "metadata": {
            "needs_background": "light"
          }
        }
      ]
    },
    {
      "cell_type": "markdown",
      "metadata": {
        "id": "rfTKlQCgXrKd"
      },
      "source": [
        "# **K Neighbors Classifier**"
      ]
    },
    {
      "cell_type": "markdown",
      "metadata": {
        "id": "OXwM-Z5m3RYl"
      },
      "source": [
        "K Neighbors Classifier  assumes the similarity between the new case/data and available cases and put the new case into the category that is most similar to the available categories.\n",
        "\n",
        "\n",
        "---\n",
        "\n"
      ]
    },
    {
      "cell_type": "code",
      "metadata": {
        "id": "2oMKt4s5yyca"
      },
      "source": [
        "from sklearn.neighbors import KNeighborsClassifier\n",
        "model2 = KNeighborsClassifier(n_neighbors = 2)   # Making an instance of the Model.\n",
        "model2.fit(X_train,y_train)      # learning the relationship between X_train and y_train.\n",
        "y_pred2 = model2.predict(X_test)  # prediction"
      ],
      "execution_count": null,
      "outputs": []
    },
    {
      "cell_type": "code",
      "metadata": {
        "colab": {
          "base_uri": "https://localhost:8080/"
        },
        "id": "Mp6rz7G4yyc3",
        "outputId": "1b4d24c5-59b6-4e68-fa68-ab3cb70254c0"
      },
      "source": [
        "import sklearn.metrics as met\n",
        "from sklearn.metrics import accuracy_score,classification_report\n",
        "cr = classification_report(y_test,y_pred2)   # Build a text report showing the main classification metrics.\n",
        "print(cr)\n",
        "accuracyscore=met.accuracy_score(y_test, y_pred2)*100   # for getting the accuracy score in percentage multiply by 100\n",
        "print('\\n')\n",
        "print('Accuracy score given for test data:',str(accuracyscore))"
      ],
      "execution_count": null,
      "outputs": [
        {
          "output_type": "stream",
          "name": "stdout",
          "text": [
            "              precision    recall  f1-score   support\n",
            "\n",
            "           0       0.90      0.88      0.89      8013\n",
            "           1       0.89      0.90      0.89      7956\n",
            "\n",
            "    accuracy                           0.89     15969\n",
            "   macro avg       0.89      0.89      0.89     15969\n",
            "weighted avg       0.89      0.89      0.89     15969\n",
            "\n",
            "\n",
            "\n",
            "Accuracy score given for test data: 89.27296637234642\n"
          ]
        }
      ]
    },
    {
      "cell_type": "code",
      "metadata": {
        "colab": {
          "base_uri": "https://localhost:8080/",
          "height": 296
        },
        "id": "4VNuWpDqyyc5",
        "outputId": "fc8a013d-d9e6-4626-be12-bcac49023eb5"
      },
      "source": [
        "# Confusion Matrix\n",
        "import seaborn as sns\n",
        "import matplotlib.pyplot as pt\n",
        "from sklearn.metrics import confusion_matrix\n",
        "conmat=confusion_matrix(y_test,y_pred2)   # Compute confusion matrix to evaluate the accuracy of a classification.\n",
        "sns.heatmap(conmat.T, square=True, annot=True, fmt='d', cbar=False,cmap='Purples') # square=True, set the Axes aspect to “equal” so each cell will be square-shaped.    # annot=True write the data value in each cell.  # cbar=False means Whether to draw a colorbar.\n",
        "pt.xlabel('Actual class') \n",
        "pt.ylabel('Predicted class')"
      ],
      "execution_count": null,
      "outputs": [
        {
          "output_type": "execute_result",
          "data": {
            "text/plain": [
              "Text(91.68, 0.5, 'Predicted class')"
            ]
          },
          "metadata": {},
          "execution_count": 68
        },
        {
          "output_type": "display_data",
          "data": {
            "image/png": "[encoded data removed]",
            "text/plain": [
              "<Figure size 432x288 with 1 Axes>"
            ]
          },
          "metadata": {
            "needs_background": "light"
          }
        }
      ]
    },
    {
      "cell_type": "code",
      "metadata": {
        "colab": {
          "base_uri": "https://localhost:8080/",
          "height": 442
        },
        "id": "ZrAJFjQoyyc7",
        "outputId": "d19da391-316a-4135-c7fc-91ea07283593"
      },
      "source": [
        "from sklearn.metrics import roc_auc_score,roc_curve\n",
        "fpr,tpr, thresholds =roc_curve(y_test,model2.predict_proba(X_test)[:,1])\n",
        "model2_roc_auc=roc_auc_score(y_test,model2.predict_proba(X_test)[:,1])\n",
        "\n",
        "import matplotlib.pyplot as plt\n",
        "plt.figure(figsize=(10,7))\n",
        "plt.plot(fpr,tpr,label='KNN'%model2_roc_auc)\n",
        "plt.plot([0,1],[0,1],'r--')    # red color in dashed\n",
        "plt.xlabel(\"False positive rate\")\n",
        "plt.ylabel(\"True positive rate\")\n",
        "plt.legend(loc=\"lower right\")\n",
        "plt.show()"
      ],
      "execution_count": null,
      "outputs": [
        {
          "output_type": "display_data",
          "data": {
            "image/png": "[encoded data removed]",
            "text/plain": [
              "<Figure size 720x504 with 1 Axes>"
            ]
          },
          "metadata": {
            "needs_background": "light"
          }
        }
      ]
    },
    {
      "cell_type": "markdown",
      "metadata": {
        "id": "EJ8l0pk4V1iB"
      },
      "source": [
        "# **Decision Tree**"
      ]
    },
    {
      "cell_type": "markdown",
      "metadata": {
        "id": "y1bnhFrG4D3p"
      },
      "source": [
        "Decision Tree is a Supervised Machine learning technique that can be used for both classification and Regression problems, but mostly it is preferred for solving Classification problems. It is a tree-structured classifier, where internal nodes represent the features of a dataset, branches represent the decision rules and each leaf node represents the outcome.\n",
        "\n",
        "\n",
        "---\n",
        "\n"
      ]
    },
    {
      "cell_type": "code",
      "metadata": {
        "id": "uX2KUfvTxrqP"
      },
      "source": [
        ""
      ],
      "execution_count": null,
      "outputs": []
    },
    {
      "cell_type": "code",
      "metadata": {
        "id": "cvniJ_VizY8c"
      },
      "source": [
        "from sklearn.tree import DecisionTreeClassifier\n",
        "model3 = DecisionTreeClassifier(criterion='entropy',random_state=7)     \n",
        "model3.fit(X_train,y_train)    # learning the relationship between X_train and y_train.\n",
        "y_pred3 = model3.predict(X_test)   # prediction"
      ],
      "execution_count": null,
      "outputs": []
    },
    {
      "cell_type": "code",
      "metadata": {
        "id": "ylPjOvh1l-fv",
        "colab": {
          "base_uri": "https://localhost:8080/",
          "height": 296
        },
        "outputId": "878994f7-0d1e-41b7-8497-59de3642d433"
      },
      "source": [
        "# Confusion Matrix\n",
        "import seaborn as sns\n",
        "import matplotlib.pyplot as pt\n",
        "from sklearn.metrics import confusion_matrix\n",
        "conmat=confusion_matrix(y_test,y_pred3) # Compute confusion matrix to evaluate the accuracy of a classification.\n",
        "sns.heatmap(conmat.T, square=True, annot=True, fmt='d', cbar=False,cmap='Reds_r') # square=True, set the Axes aspect to “equal” so each cell will be square-shaped.    # annot=True write the data value in each cell.  # cbar=False means Whether to draw a colorbar.\n",
        "pt.xlabel('Actual class') \n",
        "pt.ylabel('Predicted class')"
      ],
      "execution_count": null,
      "outputs": [
        {
          "output_type": "execute_result",
          "data": {
            "text/plain": [
              "Text(91.68, 0.5, 'Predicted class')"
            ]
          },
          "metadata": {},
          "execution_count": 71
        },
        {
          "output_type": "display_data",
          "data": {
            "image/png": "[encoded data removed]",
            "text/plain": [
              "<Figure size 432x288 with 1 Axes>"
            ]
          },
          "metadata": {
            "needs_background": "light"
          }
        }
      ]
    },
    {
      "cell_type": "code",
      "metadata": {
        "id": "MYMLdjaql-mY",
        "colab": {
          "base_uri": "https://localhost:8080/"
        },
        "outputId": "9a07e86d-3977-4b10-d1ee-a3e7dd6183c8"
      },
      "source": [
        "import sklearn.metrics as met\n",
        "from sklearn.metrics import accuracy_score,classification_report\n",
        "cr = classification_report(y_test,y_pred3)    # Build a text report showing the main classification metrics.\n",
        "print(cr)\n",
        "accuracyscore=met.accuracy_score(y_test, y_pred3)*100   # for getting the accuracy score in percentage multiply by 100\n",
        "print('\\n')\n",
        "print('Accuracy score given for test data:',str(accuracyscore))"
      ],
      "execution_count": null,
      "outputs": [
        {
          "output_type": "stream",
          "name": "stdout",
          "text": [
            "              precision    recall  f1-score   support\n",
            "\n",
            "           0       0.93      0.87      0.90      8013\n",
            "           1       0.87      0.93      0.90      7956\n",
            "\n",
            "    accuracy                           0.90     15969\n",
            "   macro avg       0.90      0.90      0.90     15969\n",
            "weighted avg       0.90      0.90      0.90     15969\n",
            "\n",
            "\n",
            "\n",
            "Accuracy score given for test data: 89.8365583317678\n"
          ]
        }
      ]
    },
    {
      "cell_type": "code",
      "metadata": {
        "id": "29swRP3Pl-qu",
        "colab": {
          "base_uri": "https://localhost:8080/",
          "height": 442
        },
        "outputId": "419639f4-2caa-4960-dcda-7f919237e074"
      },
      "source": [
        "from sklearn.metrics import roc_auc_score,roc_curve\n",
        "fpr,tpr,thresholds=roc_curve(y_test,model3.predict_proba(X_test)[:,1])\n",
        "model3_roc_auc=roc_auc_score(y_test,model3.predict_proba(X_test)[:,1])\n",
        "\n",
        "import matplotlib.pyplot as plt\n",
        "plt.figure(figsize=(10,7))\n",
        "plt.plot(fpr,tpr,label='Decision Tree'%model3_roc_auc)\n",
        "plt.plot([0,1],[0,1],'r--')    # red color in dashed\n",
        "plt.xlabel(\"False positive rate\")\n",
        "plt.ylabel(\"True positive rate\")\n",
        "plt.legend(loc=\"lower right\")\n",
        "plt.show()"
      ],
      "execution_count": null,
      "outputs": [
        {
          "output_type": "display_data",
          "data": {
            "image/png": "[encoded data removed]",
            "text/plain": [
              "<Figure size 720x504 with 1 Axes>"
            ]
          },
          "metadata": {
            "needs_background": "light"
          }
        }
      ]
    },
    {
      "cell_type": "markdown",
      "metadata": {
        "id": "i0GdmZp3RRnu"
      },
      "source": [
        "# **Random Forest**"
      ]
    },
    {
      "cell_type": "markdown",
      "metadata": {
        "id": "cLrKjqDP43Le"
      },
      "source": [
        "Random Forest is based on the concept of ensemble learning, which is a process of combining multiple classifiers to solve a complex problem and to improve the performance of the model. Instead of relying on one decision tree, the random forest takes the prediction from each tree and based on the majority votes of predictions, and it predicts the final output.\n",
        "The greater number of trees in the forest leads to higher accuracy and prevents the problem of overfitting.\n",
        "\n",
        "\n",
        "---\n",
        "\n",
        "\n",
        "\n"
      ]
    },
    {
      "cell_type": "code",
      "metadata": {
        "id": "L_tbUyLW0GxD"
      },
      "source": [
        "from sklearn.ensemble import RandomForestClassifier\n",
        "model4 = RandomForestClassifier(random_state=1)\n",
        "model4.fit(X_train, y_train)     # learning the relationship between X_train and y_train.\n",
        "y_pred4 = model4.predict(X_test)    # prediction"
      ],
      "execution_count": null,
      "outputs": []
    },
    {
      "cell_type": "code",
      "metadata": {
        "colab": {
          "base_uri": "https://localhost:8080/",
          "height": 296
        },
        "id": "l5GpnTjX0G5l",
        "outputId": "1b99eb6c-2872-4bd3-c8bc-16b212a8143e"
      },
      "source": [
        "# Confusion Matrix\n",
        "import seaborn as sns\n",
        "import matplotlib.pyplot as pt\n",
        "from sklearn.metrics import confusion_matrix\n",
        "conmat=confusion_matrix(y_test,y_pred4) # Compute confusion matrix to evaluate the accuracy of a classification.\n",
        "sns.heatmap(conmat.T, square=True, annot=True, fmt='d', cbar=False,cmap='Oranges_r') # square=True, set the Axes aspect to “equal” so each cell will be square-shaped.    # annot=True write the data value in each cell.  # cbar=False means Whether to draw a colorbar.\n",
        "pt.xlabel('Actual class') \n",
        "pt.ylabel('Predicted class')"
      ],
      "execution_count": null,
      "outputs": [
        {
          "output_type": "execute_result",
          "data": {
            "text/plain": [
              "Text(91.68, 0.5, 'Predicted class')"
            ]
          },
          "metadata": {},
          "execution_count": 75
        },
        {
          "output_type": "display_data",
          "data": {
            "image/png": "[encoded data removed]",
            "text/plain": [
              "<Figure size 432x288 with 1 Axes>"
            ]
          },
          "metadata": {
            "needs_background": "light"
          }
        }
      ]
    },
    {
      "cell_type": "code",
      "metadata": {
        "colab": {
          "base_uri": "https://localhost:8080/"
        },
        "id": "FBJcUZbm0HDa",
        "outputId": "c4ec74e5-a5b7-426b-b66e-31e83e6a1b8b"
      },
      "source": [
        "import sklearn.metrics as met\n",
        "from sklearn.metrics import accuracy_score,classification_report\n",
        "cr = classification_report(y_test,y_pred4)   # Build a text report showing the main classification metrics.\n",
        "print(cr)\n",
        "accuracyscore=met.accuracy_score(y_test, y_pred4)*100    # for getting the accuracy score in percentage multiply by 100\n",
        "print('\\n')\n",
        "print('Accuracy score given for test data:',str(accuracyscore))"
      ],
      "execution_count": null,
      "outputs": [
        {
          "output_type": "stream",
          "name": "stdout",
          "text": [
            "              precision    recall  f1-score   support\n",
            "\n",
            "           0       0.95      0.88      0.91      8013\n",
            "           1       0.89      0.95      0.92      7956\n",
            "\n",
            "    accuracy                           0.91     15969\n",
            "   macro avg       0.92      0.91      0.91     15969\n",
            "weighted avg       0.92      0.91      0.91     15969\n",
            "\n",
            "\n",
            "\n",
            "Accuracy score given for test data: 91.48349927985471\n"
          ]
        }
      ]
    },
    {
      "cell_type": "code",
      "metadata": {
        "colab": {
          "base_uri": "https://localhost:8080/",
          "height": 442
        },
        "id": "ScT6sZeQ0HOu",
        "outputId": "247e152a-87bf-474c-e86c-e443f14e1fbb"
      },
      "source": [
        "from sklearn.metrics import roc_auc_score,roc_curve\n",
        "fpr,tpr,thresholds=roc_curve(y_test,model4.predict_proba(X_test)[:,1])\n",
        "model4_roc_auc=roc_auc_score(y_test,model4.predict_proba(X_test)[:,1])\n",
        "\n",
        "import matplotlib.pyplot as plt\n",
        "plt.figure(figsize=(10,7))\n",
        "plt.plot(fpr,tpr,label='Random Forest'%model4_roc_auc)\n",
        "plt.plot([0,1],[0,1],'r--')    # red color in dashed\n",
        "plt.xlabel(\"False positive rate\")\n",
        "plt.ylabel(\"True positive rate\")\n",
        "plt.legend(loc=\"lower right\")\n",
        "plt.show()"
      ],
      "execution_count": null,
      "outputs": [
        {
          "output_type": "display_data",
          "data": {
            "image/png": "[encoded data removed]",
            "text/plain": [
              "<Figure size 720x504 with 1 Axes>"
            ]
          },
          "metadata": {
            "needs_background": "light"
          }
        }
      ]
    },
    {
      "cell_type": "markdown",
      "metadata": {
        "id": "RNZGvvWsRJL1"
      },
      "source": [
        "# **SVC**"
      ]
    },
    {
      "cell_type": "markdown",
      "metadata": {
        "id": "VK1LXlbP6WRZ"
      },
      "source": [
        "SVC is a nonparametric clustering algorithm that does not make any assumption on the number or shape of the clusters in the data\n",
        "\n",
        "\n",
        "---\n",
        "\n"
      ]
    },
    {
      "cell_type": "code",
      "metadata": {
        "id": "B4Q41DI2l-ui"
      },
      "source": [
        "from sklearn.svm import SVC\n",
        "model5 = SVC()    # Making an instance of the Model.\n",
        "model5.fit(X_train,y_train)     # learning the relationship between X_train and y_train.\n",
        "y_pred5 = model5.predict(X_test)    # prediction"
      ],
      "execution_count": null,
      "outputs": []
    },
    {
      "cell_type": "code",
      "metadata": {
        "id": "97sd_Jagl-x-",
        "colab": {
          "base_uri": "https://localhost:8080/",
          "height": 296
        },
        "outputId": "50386632-a6eb-4fd9-94ba-2e42e7a67be4"
      },
      "source": [
        "# Confusion Matrix\n",
        "import seaborn as sns\n",
        "import matplotlib.pyplot as pt\n",
        "from sklearn.metrics import confusion_matrix\n",
        "conmat=confusion_matrix(y_test,y_pred5)    # Compute confusion matrix to evaluate the accuracy of a classification.\n",
        "sns.heatmap(conmat.T, square=True, annot=True, fmt='d', cbar=False)  # square=True, set the Axes aspect to “equal” so each cell will be square-shaped.    # annot=True write the data value in each cell.  # cbar=False means Whether to draw a colorbar.\n",
        "pt.xlabel('Actual class') \n",
        "pt.ylabel('Predicted class')"
      ],
      "execution_count": null,
      "outputs": [
        {
          "output_type": "execute_result",
          "data": {
            "text/plain": [
              "Text(91.68, 0.5, 'Predicted class')"
            ]
          },
          "metadata": {},
          "execution_count": 79
        },
        {
          "output_type": "display_data",
          "data": {
            "image/png": "[encoded data removed]",
            "text/plain": [
              "<Figure size 432x288 with 1 Axes>"
            ]
          },
          "metadata": {
            "needs_background": "light"
          }
        }
      ]
    },
    {
      "cell_type": "code",
      "metadata": {
        "id": "9cZNQJ_Kl-1x",
        "colab": {
          "base_uri": "https://localhost:8080/"
        },
        "outputId": "23905768-a327-43c3-9805-c585d3170d29"
      },
      "source": [
        "import sklearn.metrics as met\n",
        "from sklearn.metrics import accuracy_score,classification_report\n",
        "cr = classification_report(y_test,y_pred5)    # Build a text report showing the main classification metrics.\n",
        "print(cr)\n",
        "accuracyscore=met.accuracy_score(y_test, y_pred5)*100    # for getting the accuracy score in percentage multiply by 100\n",
        "print('\\n')\n",
        "print('Accuracy score given for test data:',str(accuracyscore))"
      ],
      "execution_count": null,
      "outputs": [
        {
          "output_type": "stream",
          "name": "stdout",
          "text": [
            "              precision    recall  f1-score   support\n",
            "\n",
            "           0       0.89      0.76      0.82      8013\n",
            "           1       0.79      0.90      0.84      7956\n",
            "\n",
            "    accuracy                           0.83     15969\n",
            "   macro avg       0.84      0.83      0.83     15969\n",
            "weighted avg       0.84      0.83      0.83     15969\n",
            "\n",
            "\n",
            "\n",
            "Accuracy score given for test data: 82.82923163629532\n"
          ]
        }
      ]
    },
    {
      "cell_type": "markdown",
      "metadata": {
        "id": "tQgT1kqyQ8Eo"
      },
      "source": [
        "# **MODEL ACCURACY**"
      ]
    },
    {
      "cell_type": "code",
      "metadata": {
        "colab": {
          "base_uri": "https://localhost:8080/",
          "height": 269
        },
        "id": "s44E85rK3I39",
        "outputId": "52929234-a6b3-44c2-f774-be0141dd9aec"
      },
      "source": [
        "results = pd.DataFrame({\n",
        "    'Models': ['Logistic Regression','GaussianNB', 'K Neighbors','Decision Tree' ,'Random Forest','SVC'],\n",
        "    'Scores': [0.80,0.74,0.89,0.90,0.91,0.83]})         \n",
        "result_df = results.sort_values(by='Scores', ascending=False)   # sorts the data frame in descending order of Scores.\n",
        "result_df = result_df.set_index('Scores')   # set a Scores as index of a Data Frame.\n",
        "result_df"
      ],
      "execution_count": null,
      "outputs": [
        {
          "output_type": "execute_result",
          "data": {
            "text/html": [
              "<div>\n",
              "<style scoped>\n",
              "    .dataframe tbody tr th:only-of-type {\n",
              "        vertical-align: middle;\n",
              "    }\n",
              "\n",
              "    .dataframe tbody tr th {\n",
              "        vertical-align: top;\n",
              "    }\n",
              "\n",
              "    .dataframe thead th {\n",
              "        text-align: right;\n",
              "    }\n",
              "</style>\n",
              "<table border=\"1\" class=\"dataframe\">\n",
              "  <thead>\n",
              "    <tr style=\"text-align: right;\">\n",
              "      <th></th>\n",
              "      <th>Models</th>\n",
              "    </tr>\n",
              "    <tr>\n",
              "      <th>Scores</th>\n",
              "      <th></th>\n",
              "    </tr>\n",
              "  </thead>\n",
              "  <tbody>\n",
              "    <tr>\n",
              "      <th>0.91</th>\n",
              "      <td>Random Forest</td>\n",
              "    </tr>\n",
              "    <tr>\n",
              "      <th>0.90</th>\n",
              "      <td>Decision Tree</td>\n",
              "    </tr>\n",
              "    <tr>\n",
              "      <th>0.89</th>\n",
              "      <td>K Neighbors</td>\n",
              "    </tr>\n",
              "    <tr>\n",
              "      <th>0.83</th>\n",
              "      <td>SVC</td>\n",
              "    </tr>\n",
              "    <tr>\n",
              "      <th>0.80</th>\n",
              "      <td>Logistic Regression</td>\n",
              "    </tr>\n",
              "    <tr>\n",
              "      <th>0.74</th>\n",
              "      <td>GaussianNB</td>\n",
              "    </tr>\n",
              "  </tbody>\n",
              "</table>\n",
              "</div>"
            ],
            "text/plain": [
              "                     Models\n",
              "Scores                     \n",
              "0.91          Random Forest\n",
              "0.90          Decision Tree\n",
              "0.89            K Neighbors\n",
              "0.83                    SVC\n",
              "0.80    Logistic Regression\n",
              "0.74             GaussianNB"
            ]
          },
          "metadata": {},
          "execution_count": 81
        }
      ]
    },
    {
      "cell_type": "markdown",
      "metadata": {
        "id": "tUlasN2TzPi7"
      },
      "source": [
        "# **CONCLUSION**"
      ]
    },
    {
      "cell_type": "markdown",
      "metadata": {
        "id": "BO84Lribz93I"
      },
      "source": [
        "The results obtained in the above table show that the Random Forest and Decision Tree has higher accuracy. The proposed models achieved 91% and 90% accuracies which is high compared with the other models. Thus, the results suggest that the Random Forest and Decision Tree models are more reliable for accurate detection."
      ]
    }
  ]
}